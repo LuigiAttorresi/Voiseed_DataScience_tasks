{
  "nbformat": 4,
  "nbformat_minor": 0,
  "metadata": {
    "colab": {
      "name": "First_Task_Voiseed.ipynb",
      "provenance": [],
      "collapsed_sections": [
        "QNCjfKEUsV7h"
      ]
    },
    "kernelspec": {
      "name": "python3",
      "display_name": "Python 3"
    },
    "language_info": {
      "name": "python"
    },
    "accelerator": "GPU"
  },
  "cells": [
    {
      "cell_type": "markdown",
      "source": [
        "# Imports"
      ],
      "metadata": {
        "id": "dt_oeDDksDbe"
      }
    },
    {
      "cell_type": "code",
      "source": [
        "%%capture\n",
        "!pip install pysptk"
      ],
      "metadata": {
        "id": "M4XttX5yluC9"
      },
      "execution_count": 2,
      "outputs": []
    },
    {
      "cell_type": "code",
      "execution_count": 15,
      "metadata": {
        "id": "jw7ggzrPfyis",
        "colab": {
          "base_uri": "https://localhost:8080/"
        },
        "outputId": "d19c2ae2-907c-4da6-ddd5-51d5fa747206"
      },
      "outputs": [
        {
          "output_type": "stream",
          "name": "stdout",
          "text": [
            "Drive already mounted at /content/gdrive; to attempt to forcibly remount, call drive.mount(\"/content/gdrive\", force_remount=True).\n"
          ]
        }
      ],
      "source": [
        "import librosa\n",
        "import pysptk\n",
        "import IPython.display as ipd\n",
        "from scipy.io.wavfile import write\n",
        "\n",
        "import numpy as np\n",
        "import statistics\n",
        "import os\n",
        "import json\n",
        "import pandas as pd\n",
        "import math\n",
        "\n",
        "import matplotlib.pyplot as plt\n",
        "import seaborn as sns\n",
        "\n",
        "from sklearn import preprocessing\n",
        "from sklearn.model_selection import train_test_split\n",
        "from sklearn.metrics import roc_curve, accuracy_score, auc, recall_score, precision_score\n",
        "from sklearn.svm import SVC\n",
        "from sklearn.ensemble import RandomForestClassifier\n",
        "\n",
        "import tensorflow as tf\n",
        "from keras.layers import Dense, Dropout, Input, Conv2D, MaxPool2D, BatchNormalization, Flatten\n",
        "from keras.models import Model, load_model\n",
        "from keras.callbacks import EarlyStopping, ModelCheckpoint\n",
        "\n",
        "from google.colab import drive\n",
        "drive.mount('/content/gdrive')"
      ]
    },
    {
      "cell_type": "markdown",
      "source": [
        "# Data Processing Functions"
      ],
      "metadata": {
        "id": "tlEHgRSksLEf"
      }
    },
    {
      "cell_type": "code",
      "source": [
        "def analyse_dataset(dataset_path, metadata_path, sr=16000, min_length=1, min_voiced_sec=0.08):\n",
        "  \"\"\"\n",
        "  Analyses a dataset and returns some data information, includind the files which\n",
        "  are not valid:\n",
        "  - Shorter than min_length\n",
        "  - Empty\n",
        "  - Without meaningful voiced material\n",
        "  \"\"\"\n",
        "  audio_paths = []\n",
        "  speaker_labels = []\n",
        "  audio_lengths = []\n",
        "  audio_channels = []\n",
        "  gender_labels = []\n",
        "  discarded_paths = []\n",
        "\n",
        "  for root, subdirs, files in os.walk(dataset_path):\n",
        "    for file in files:\n",
        "      if file.split('.')[-1] == 'flac' or file.split('.')[-1] == 'wav':\n",
        "        filepath = os.path.join(root, file)\n",
        "        label = file.split('-')[0]\n",
        "        audio, _ = librosa.load(filepath, sr=sr, mono=False)\n",
        "\n",
        "        # Check if the audio is long enough, valid and has meaningful speech material\n",
        "        if len(audio) * sr >= min_length and librosa.util.valid_audio(audio, mono=is_mono(audio))\\\n",
        "            and is_voiced(audio, sr, min_voiced_sec):\n",
        "            audio_paths.append(filepath)\n",
        "            speaker_labels.append(label)\n",
        "            audio_lengths.append(len(audio))\n",
        "            audio_channels.append(is_mono(audio))\n",
        "        else:\n",
        "          discarded_paths.append(filepath)\n",
        "  \n",
        "  metadata = pd.read_csv(metadata_path, sep='\\s+\\|\\s+', skiprows=11, error_bad_lines=False, engine='python')\n",
        "  gender_labels = [metadata[metadata[\"ID\"] == int(l)][\"SEX\"].iloc[0] for i, l in enumerate(speaker_labels)]\n",
        "\n",
        "  return np.array(audio_paths), np.array(speaker_labels), np.array(gender_labels)\\\n",
        "      ,np.array(audio_lengths), np.array(audio_channels), np.array(discarded_paths)\n",
        "\n",
        "def print_statistics(audio_paths, speaker_labels, gender_labels, audio_lengths, audio_channels, discarded_paths):\n",
        "  \"\"\"\n",
        "  Given the information provided by analyse_dataset prints a series of global and\n",
        "  class-related statistics about the dataset files. \n",
        "  \"\"\"\n",
        "  print('GLOBAL STATISTICS')\n",
        "  print()\n",
        "  print(' - Tot. n. of audios: {}'.format(len(audio_paths)))\n",
        "  print(' - Tot. n. of speakers: {}'.format(len(np.unique(np.array(speaker_labels)))))\n",
        "  print(' - Tot. n. of discarded audios: {}'.format(len(discarded_paths)))\n",
        "  print(' - Max length: {}'.format(max(audio_lengths) / sr))\n",
        "  print(' - Min length: {}'.format(min(audio_lengths) / sr))\n",
        "  print(' - Avg length: {}'.format(sum(audio_lengths) / len(audio_lengths) / sr))\n",
        "  print(' - Median length: {}'.format(statistics.median(audio_lengths) / sr))\n",
        "  print(' - Number of mono audios: {}'.format((audio_channels == True).sum()))\n",
        "  print(' - Number of stereo audios: {}'.format((audio_channels == False).sum()))  \n",
        "  print()\n",
        "  print()\n",
        "  print()\n",
        "\n",
        "  print('GENDER STATISTICS')\n",
        "  print()\n",
        "  for i, gender in enumerate(np.unique(gender_labels)):\n",
        "    gen_indices = np.where(gender_labels == gender)[0]\n",
        "    gen_audio_lengths = [audio_lengths[i] for i in gen_indices]\n",
        "    gen_audio_channels = [audio_channels[i] for i in gen_indices]\n",
        "    print('{}) Gender: {}'.format(i + 1, gender))\n",
        "    print('     - N. audios: {}'.format(len(gen_indices)))\n",
        "    print('     - Max length: {}'.format(max(gen_audio_lengths) / sr))\n",
        "    print('     - Min length: {}'.format(min(gen_audio_lengths) / sr))\n",
        "    print('     - Avg length: {}'.format(sum(gen_audio_lengths) / \n",
        "                                    len(gen_audio_lengths) / sr))\n",
        "    print('     - Median length: {}'.format(statistics.median(gen_audio_lengths) / sr))\n",
        "\n",
        "  print()\n",
        "  print()  \n",
        "  print('SPEAKER STATISTICS')\n",
        "  print()\n",
        "  for i, speaker in enumerate(np.unique(speaker_labels)):\n",
        "    spk_indices = np.where(speaker_labels == speaker)[0]\n",
        "    spk_audio_lengths = [audio_lengths[i] for i in spk_indices]\n",
        "    spk_audio_channels = [audio_channels[i] for i in spk_indices]\n",
        "    print('{}) Speaker id: {}'.format(i + 1, speaker))\n",
        "    print('     - N. audios: {}'.format(len(spk_indices)))\n",
        "    print('     - Max length: {}'.format(max(spk_audio_lengths) / sr))\n",
        "    print('     - Min length: {}'.format(min(spk_audio_lengths) / sr))\n",
        "    print('     - Avg length: {}'.format(sum(spk_audio_lengths) / \n",
        "                                    len(spk_audio_lengths) / sr))\n",
        "    print('     - Median length: {}'.format(statistics.median(spk_audio_lengths) / sr))\n",
        "\n",
        "def fragment_dataset(dataset_path, audio_paths, subfolders, audio_len=2, sr=16000, mono=True):\n",
        "  \"\"\"\n",
        "  Reshapes the dataset creating audio files of fixed length (audio_len), by\n",
        "  fragmenting the longer ones and zero-padding the shorter. \n",
        "  The new dataset is saved at dataset_path\n",
        "  \"\"\"\n",
        "  os.makedirs(dataset_path, exist_ok = True)\n",
        "  for folder in np.unique(subfolders):\n",
        "    folder_path = os.path.join(dataset_path, folder)\n",
        "    os.makedirs(folder_path, exist_ok = True)\n",
        "  print()\n",
        "  for path in audio_paths:\n",
        "    audio, _ = librosa.load(path, sr=sr, mono=mono)\n",
        "    n_segments = math.ceil(len(audio) / (sr * audio_len))\n",
        "    filename = path.split('/')[-1]\n",
        "    folder_path = os.path.join(\n",
        "      dataset_path ,filename.split('-')[0])\n",
        "\n",
        "    for i in range(n_segments):\n",
        "      if i < n_segments - 1:\n",
        "        new_audio = audio[i * sr * audio_len:(i + 1) * sr * audio_len]\n",
        "      else:\n",
        "        new_audio = librosa.util.fix_length(audio[i * sr * audio_len:], sr * audio_len)\n",
        "\n",
        "      scaled_audio = np.int16(new_audio/np.max(np.abs(new_audio)) * 32767)\n",
        "      write(os.path.join(folder_path, filename.split('.')[0] + '_' + str(i) + '.flac'), sr, scaled_audio)\n",
        "\n",
        "def extract_MFCCs(audio_paths, speaker_categorical_labels, gender_categorical_labels,\n",
        "                    json_path, sr=16000, n_mfcc=13, hop_length=512, n_fft=2048):\n",
        "  \"\"\"\n",
        "  Extract the MFCCs from the dataset audios and saves them into a json file \n",
        "  (json_path) together with additional information about data\n",
        "  \"\"\"\n",
        "  data = {\n",
        "      \"speaker_mappings\": [],\n",
        "      \"gender_mappings\": [],\n",
        "      \"speaker_labels\": [],\n",
        "      \"gender_labels\": [],\n",
        "      \"MFCCs\": [],\n",
        "      \"files\": []\n",
        "  }\n",
        "\n",
        "  le = preprocessing.LabelEncoder()\n",
        "  le.fit(speaker_categorical_labels)\n",
        "  speaker_labels = le.transform(speaker_categorical_labels)\n",
        "\n",
        "  le = preprocessing.LabelEncoder()\n",
        "  le.fit(gender_categorical_labels)\n",
        "  gender_labels = le.transform(gender_categorical_labels)\n",
        "\n",
        "  data[\"speaker_mappings\"] = np.unique(speaker_categorical_labels).tolist()\n",
        "  data[\"gender_mappings\"] = np.unique(gender_categorical_labels).tolist()\n",
        "  data[\"speaker_labels\"] = speaker_labels.tolist()\n",
        "  data[\"gender_labels\"] = gender_labels.tolist()\n",
        "  data[\"files\"] = audio_paths.tolist()\n",
        "\n",
        "  for f in audio_paths:\n",
        "    audio, _ = librosa.load(f, sr=sr)\n",
        "    MFCCs = librosa.feature.mfcc(audio, n_mfcc=n_mfcc, hop_length=hop_length, \n",
        "                    n_fft=n_fft)\n",
        "    data[\"MFCCs\"].append(MFCCs.T.tolist())\n",
        "\n",
        "  with open(json_path, \"w\") as fp:\n",
        "    json.dump(data, fp, indent=4)\n",
        "\n",
        "  print(\"Saved to {}\".format(json_path))\n",
        "\n",
        "def load_dataset(data_path, task=None):\n",
        "  \"\"\"\n",
        "  Load the dataset from a json file\n",
        "  \"\"\"\n",
        "  with open(data_path, 'r') as fp:\n",
        "    data = json.load(fp)\n",
        "\n",
        "  files = data[\"files\"]\n",
        "  X = data[\"MFCCs\"]\n",
        "\n",
        "  if task == 'gender_recognition':\n",
        "    y = data[\"gender_labels\"]\n",
        "    classes = data[\"gender_mappings\"]\n",
        "  else:\n",
        "    y = data[\"labels\"]\n",
        "    classes = data[\"classes\"]\n",
        "\n",
        "  return X, y, files, classes\n",
        "\n",
        "def remove_outliers(X, y, files, ref_mel_coeff=2, max_zeros=10):\n",
        "  \"\"\"\n",
        "  Removes those audios whose ref_mel_coeff has more zeros than max_zeros along\n",
        "  the time axis\n",
        "  \"\"\"\n",
        "  n_outliers = 0\n",
        "  to_discard = []\n",
        "  for i, sample in enumerate(X):\n",
        "    coeffs = [t_bin[ref_mel_coeff] for t_bin in sample]\n",
        "    if coeffs.count(0) >= max_zeros:\n",
        "      n_outliers += 1\n",
        "      to_discard.append(i)\n",
        "  X = [x for i, x in enumerate(X) if i not in to_discard]\n",
        "  y = [label for i, label in enumerate(y) if i not in to_discard]\n",
        "  files = [files for i, file in enumerate(files) if i not in to_discard]\n",
        "  print(\"{} outliers removed!\".format(n_outliers))\n",
        "  return X, y, files\n",
        "\n",
        "def balance_dataset(X, y, files):\n",
        "  \"\"\"\n",
        "  Removes audio files from the larger classes so that all of them contains the \n",
        "  same amount of data\n",
        "  \"\"\"\n",
        "  labels_count = [(y == label).sum() for label in np.unique(y)]\n",
        "  num_files = np.min(labels_count)\n",
        "  for i, label in enumerate(np.unique(y)):\n",
        "    if labels_count[i] > num_files:\n",
        "      indices = np.where(np.array(y) == label)[0]\n",
        "      to_discard = np.random.choice(indices, size=labels_count[i] - num_files, replace=False)\n",
        "      X = [x for i, x in enumerate(X) if i not in to_discard]\n",
        "      y = [label for i, label in enumerate(y) if i not in to_discard]\n",
        "      files = [files for i, file in enumerate(files) if i not in to_discard]\n",
        "\n",
        "  print('Each class contains {} audios'.format(num_files))\n",
        "  return X, y, files\n",
        "\n",
        "def save_to_json(json_path, X, y, files, classes):\n",
        "  \"\"\"\n",
        "  Save the dataset information to a json file\n",
        "  \"\"\"\n",
        "  data = {\n",
        "    \"MFCCs\": X,\n",
        "    \"labels\": y,\n",
        "    \"files\": files,\n",
        "    \"classes\": classes\n",
        "}\n",
        "\n",
        "  with open(json_path, \"w\") as fp:\n",
        "    json.dump(data, fp, indent=4)\n",
        "  \n",
        "  print(\"Saved to {}\".format(json_path))\n",
        "\n",
        "def feature_extraction(X):\n",
        "  \"\"\"\n",
        "  Extracts from the MFCC a series of features as temporal statistics over each\n",
        "  coefficient\n",
        "  \"\"\"\n",
        "  n_samples = len(X)\n",
        "  n_mels = len(X[0][0])\n",
        "  mean = np.empty([n_samples, n_mels])\n",
        "  std = np.empty([n_samples, n_mels])\n",
        "  median = np.empty([n_samples, n_mels])\n",
        "  max_val = np.empty([n_samples, n_mels])\n",
        "  min_val = np.empty([n_samples, n_mels])\n",
        "\n",
        "  for i, sample in enumerate(X):\n",
        "    for coeff in range(n_mels):\n",
        "      mean[i, coeff] = statistics.mean([el[coeff] for el in sample])\n",
        "      std[i, coeff] = statistics.stdev([el[coeff] for el in sample])\n",
        "      median[i, coeff] = statistics.median([el[coeff] for el in sample])\n",
        "      max_val[i, coeff] = np.max([el[coeff] for el in sample])\n",
        "      min_val[i, coeff] = np.min([el[coeff] for el in sample])\n",
        "  \n",
        "  return mean, std, median, min_val, max_val\n",
        "\n",
        "def metrics(labels, pred, legend=None):\n",
        "  \"\"\"\n",
        "  Extracts some metrics and plots the ROC curve\n",
        "  \"\"\"\n",
        "  fpr, tpr, thr = roc_curve(labels, pred)\n",
        "  rocauc = auc(fpr, tpr)\n",
        "  fnr = 1 - tpr\n",
        "  J = tpr - fpr\n",
        "  ix = np.argmax(J)\n",
        "  best_th = thr[ix]\n",
        "\n",
        "  pred_val = [1 if el >= best_th else 0 for el in pred]\n",
        "\n",
        "  acc = accuracy_score(labels, pred_val)\n",
        "  precision = precision_score(labels, pred_val)\n",
        "  recall = recall_score(labels, pred_val)\n",
        "  print('Accuracy = {:.4f}'.format(acc))\n",
        "  print('Precision = {:.4f}'.format(precision))\n",
        "  print('Recall = {:.4f}'.format(recall))\n",
        "  print()\n",
        "\n",
        "  lw = 3\n",
        "  if legend:\n",
        "    plt.plot(fpr, tpr, lw=lw, label='$\\mathrm{' + legend + ' - AUC = %0.2f}$' % rocauc)\n",
        "  else:\n",
        "    plt.plot(fpr, tpr, lw=lw, label='$\\mathrm{AUC = %0.2f}$' % rocauc)\n",
        "  plt.plot([0, 1], [0, 1], color='black', lw=lw, linestyle='--')\n",
        "  plt.xlim([-0.02, 1.0])\n",
        "  plt.ylim([0.0, 1.03])\n",
        "  plt.xlabel(r'$\\mathrm{False\\;Positive\\;Rate}$', fontsize=18)\n",
        "  plt.ylabel(r'$\\mathrm{True\\;Positive\\;Rate}$', fontsize=18)\n",
        "  plt.legend(loc=\"lower right\", fontsize=15)\n",
        "  plt.xticks(fontsize=15)\n",
        "  plt.yticks(fontsize=15)\n",
        "  plt.grid(True)\n",
        "    "
      ],
      "metadata": {
        "id": "rW3IvEwOll8Z"
      },
      "execution_count": 4,
      "outputs": []
    },
    {
      "cell_type": "markdown",
      "source": [
        "# Utility Functions"
      ],
      "metadata": {
        "id": "QNCjfKEUsV7h"
      }
    },
    {
      "cell_type": "code",
      "source": [
        "def consecutive(data, stepsize=1):\n",
        "    return np.split(data, np.where(np.diff(data) != stepsize)[0]+1)\n",
        "\n",
        "def is_mono(audio):\n",
        "  if audio.shape[0] == 2:\n",
        "      return False\n",
        "  else:\n",
        "    return True\n",
        "\n",
        "def is_voiced(audio, sr, min_voiced_sec, plot=False):\n",
        "  \"\"\"\n",
        "  Detects the presence of voiced segments (longer than min_voiced_sec) in an audio\n",
        "  by performing pitch tracking over the human voice range\n",
        "  \"\"\"\n",
        "  data_audiof = np.asarray(audio * (2 ** 15), dtype=np.float32)\n",
        "  size_stepS = 0.001 * sr\n",
        "  F0 = pysptk.sptk.rapt(data_audiof, sr, size_stepS, min=50, max=500, \n",
        "                        voice_bias=-0.2, otype='f0')\n",
        "  pitchON = np.where(F0 != 0)[0]\n",
        "  pitchON = consecutive(pitchON)\n",
        "  if plot:\n",
        "    plt.subplot(2, 1, 1)\n",
        "    plt.plot(audio)\n",
        "    plt.subplot(2, 1, 2)\n",
        "    plt.plot(F0)\n",
        "\n",
        "  n_voiced_seg = len([True for x in pitchON if len(x) > min_voiced_sec * sr / size_stepS])\n",
        "  if n_voiced_seg > 0:\n",
        "    return True\n",
        "  else:\n",
        "    return False"
      ],
      "metadata": {
        "id": "zjxawKsDRDiQ"
      },
      "execution_count": 5,
      "outputs": []
    },
    {
      "cell_type": "markdown",
      "source": [
        "# Global Variables"
      ],
      "metadata": {
        "id": "7hpLEte9RGMK"
      }
    },
    {
      "cell_type": "code",
      "source": [
        "sr = 16000\n",
        "min_length = 1 \n",
        "min_voiced_sec = 0.08\n",
        "n_mfcc = 13\n",
        "dataset_path = '/content/gdrive/MyDrive/Voiseed/LibriSpeech/dev-clean'\n",
        "processed_dataset_path = '/content/gdrive/MyDrive/Voiseed/processed_dataset'\n",
        "metadata_path = '/content/gdrive/MyDrive/Voiseed/LibriSpeech/SPEAKERS.TXT'\n",
        "dataset_json_path = '/content/gdrive/MyDrive/Voiseed/dataset_mfcc.json'\n",
        "trained_models_path = '/content/gdrive/MyDrive/Voiseed/models'\n"
      ],
      "metadata": {
        "id": "qORCZ1LpmodK"
      },
      "execution_count": 6,
      "outputs": []
    },
    {
      "cell_type": "markdown",
      "source": [
        "# Preliminary Dataset Analysis"
      ],
      "metadata": {
        "id": "PjKJLloJs7qO"
      }
    },
    {
      "cell_type": "markdown",
      "source": [
        "Estraggo alcune statistiche dal dataset per analizzare i dati in input e capire se c'è bisogno di organizzarli meglio.\n",
        "In questa prima fase vengono scartati gli audio che non contengono materiale voiced significativo tramite un semplice voice detection basato su un'analisi della f0. Sono scartati anche gli audio più corti di min_length e quelli con contenuto non valido."
      ],
      "metadata": {
        "id": "I8tO4Z41mFVB"
      }
    },
    {
      "cell_type": "code",
      "source": [
        "audio_paths, speaker_labels, gender_labels, audio_lengths, audio_channels, discarded_paths =\\\n",
        "    analyse_dataset(dataset_path, metadata_path, min_length=min_length, min_voiced_sec=min_voiced_sec)"
      ],
      "metadata": {
        "id": "O2mjYKJ9tiWm"
      },
      "execution_count": null,
      "outputs": []
    },
    {
      "cell_type": "code",
      "source": [
        "print_statistics(audio_paths, speaker_labels, gender_labels, audio_lengths, audio_channels, discarded_paths)"
      ],
      "metadata": {
        "id": "aLqkSusF5Hpx",
        "colab": {
          "base_uri": "https://localhost:8080/"
        },
        "outputId": "d760fe2d-0f54-40d0-a8f6-1ee20c21b22a"
      },
      "execution_count": 21,
      "outputs": [
        {
          "output_type": "stream",
          "name": "stdout",
          "text": [
            "GLOBAL STATISTICS\n",
            "\n",
            " - Tot. n. of audios: 2702\n",
            " - Tot. n. of speakers: 40\n",
            " - Tot. n. of discarded audios: 1\n",
            " - Max length: 32.645\n",
            " - Min length: 1.445\n",
            " - Avg length: 7.177354089563287\n",
            " - Median length: 5.92\n",
            " - Number of mono audios: 2702\n",
            " - Number of stereo audios: 0\n",
            "\n",
            "\n",
            "\n",
            "GENDER STATISTICS\n",
            "\n",
            "1) Gender: F\n",
            "     - N. audios: 1373\n",
            "     - Max length: 32.145\n",
            "     - Min length: 1.445\n",
            "     - Avg length: 7.052957483612528\n",
            "     - Median length: 5.905\n",
            "2) Gender: M\n",
            "     - N. audios: 1329\n",
            "     - Max length: 32.645\n",
            "     - Min length: 1.505\n",
            "     - Avg length: 7.305869168547781\n",
            "     - Median length: 5.97\n",
            "\n",
            "\n",
            "SPEAKER STATISTICS\n",
            "\n",
            "1) Speaker id: 1272\n",
            "     - N. audios: 73\n",
            "     - Max length: 29.4\n",
            "     - Min length: 1.6399375\n",
            "     - Avg length: 6.589518835616438\n",
            "     - Median length: 5.6\n",
            "2) Speaker id: 1462\n",
            "     - N. audios: 94\n",
            "     - Max length: 16.35\n",
            "     - Min length: 2.025\n",
            "     - Avg length: 5.129627659574468\n",
            "     - Median length: 4.36496875\n",
            "3) Speaker id: 1673\n",
            "     - N. audios: 42\n",
            "     - Max length: 19.915\n",
            "     - Min length: 3.6\n",
            "     - Avg length: 11.523691964285714\n",
            "     - Median length: 11.9975\n",
            "4) Speaker id: 174\n",
            "     - N. audios: 59\n",
            "     - Max length: 27.11\n",
            "     - Min length: 1.8\n",
            "     - Avg length: 8.178900423728814\n",
            "     - Median length: 6.57\n",
            "5) Speaker id: 1919\n",
            "     - N. audios: 64\n",
            "     - Max length: 26.625\n",
            "     - Min length: 1.69\n",
            "     - Avg length: 7.6596875\n",
            "     - Median length: 7.0725\n",
            "6) Speaker id: 1988\n",
            "     - N. audios: 75\n",
            "     - Max length: 22.865\n",
            "     - Min length: 1.98\n",
            "     - Avg length: 6.525133333333333\n",
            "     - Median length: 5.38\n",
            "7) Speaker id: 1993\n",
            "     - N. audios: 58\n",
            "     - Max length: 27.88\n",
            "     - Min length: 2.255\n",
            "     - Avg length: 8.39319073275862\n",
            "     - Median length: 7.3875\n",
            "8) Speaker id: 2035\n",
            "     - N. audios: 77\n",
            "     - Max length: 24.03\n",
            "     - Min length: 1.56\n",
            "     - Avg length: 6.315715097402597\n",
            "     - Median length: 4.895\n",
            "9) Speaker id: 2078\n",
            "     - N. audios: 52\n",
            "     - Max length: 31.375\n",
            "     - Min length: 1.75\n",
            "     - Avg length: 9.264518028846155\n",
            "     - Median length: 7.43\n",
            "10) Speaker id: 2086\n",
            "     - N. audios: 55\n",
            "     - Max length: 22.81\n",
            "     - Min length: 2.48\n",
            "     - Avg length: 8.770815909090908\n",
            "     - Median length: 8.1\n",
            "11) Speaker id: 2277\n",
            "     - N. audios: 95\n",
            "     - Max length: 15.505\n",
            "     - Min length: 1.955\n",
            "     - Avg length: 5.057842763157894\n",
            "     - Median length: 4.545\n",
            "12) Speaker id: 2412\n",
            "     - N. audios: 58\n",
            "     - Max length: 22.68\n",
            "     - Min length: 1.98\n",
            "     - Avg length: 8.342846982758621\n",
            "     - Median length: 8.435\n",
            "13) Speaker id: 2428\n",
            "     - N. audios: 87\n",
            "     - Max length: 16.45\n",
            "     - Min length: 1.85\n",
            "     - Avg length: 5.528563218390804\n",
            "     - Median length: 4.89\n",
            "14) Speaker id: 251\n",
            "     - N. audios: 75\n",
            "     - Max length: 24.8\n",
            "     - Min length: 1.535\n",
            "     - Avg length: 6.429134166666667\n",
            "     - Median length: 5.755\n",
            "15) Speaker id: 2803\n",
            "     - N. audios: 57\n",
            "     - Max length: 24.695\n",
            "     - Min length: 2.06\n",
            "     - Avg length: 8.629209429824561\n",
            "     - Median length: 7.435\n",
            "16) Speaker id: 2902\n",
            "     - N. audios: 38\n",
            "     - Max length: 32.485\n",
            "     - Min length: 2.155\n",
            "     - Avg length: 12.782763157894736\n",
            "     - Median length: 11.7475\n",
            "17) Speaker id: 3000\n",
            "     - N. audios: 47\n",
            "     - Max length: 28.57\n",
            "     - Min length: 2.54\n",
            "     - Avg length: 10.256809840425532\n",
            "     - Median length: 9.92\n",
            "18) Speaker id: 3081\n",
            "     - N. audios: 89\n",
            "     - Max length: 13.985\n",
            "     - Min length: 1.445\n",
            "     - Avg length: 5.362978932584269\n",
            "     - Median length: 4.315\n",
            "19) Speaker id: 3170\n",
            "     - N. audios: 49\n",
            "     - Max length: 27.99\n",
            "     - Min length: 2.465\n",
            "     - Avg length: 9.914285714285715\n",
            "     - Median length: 8.68\n",
            "20) Speaker id: 3536\n",
            "     - N. audios: 64\n",
            "     - Max length: 19.89\n",
            "     - Min length: 2.005\n",
            "     - Avg length: 7.6392978515625\n",
            "     - Median length: 7.7625\n",
            "21) Speaker id: 3576\n",
            "     - N. audios: 41\n",
            "     - Max length: 26.9\n",
            "     - Min length: 2.51\n",
            "     - Avg length: 11.709878048780487\n",
            "     - Median length: 10.395\n",
            "22) Speaker id: 3752\n",
            "     - N. audios: 101\n",
            "     - Max length: 16.4\n",
            "     - Min length: 1.86\n",
            "     - Avg length: 4.7882184405940595\n",
            "     - Median length: 3.735\n",
            "23) Speaker id: 3853\n",
            "     - N. audios: 57\n",
            "     - Max length: 24.125\n",
            "     - Min length: 2.26\n",
            "     - Avg length: 8.471492324561403\n",
            "     - Median length: 6.85\n",
            "24) Speaker id: 422\n",
            "     - N. audios: 36\n",
            "     - Max length: 32.645\n",
            "     - Min length: 2.19\n",
            "     - Avg length: 13.972777777777777\n",
            "     - Median length: 14.43\n",
            "25) Speaker id: 5338\n",
            "     - N. audios: 59\n",
            "     - Max length: 32.145\n",
            "     - Min length: 1.845\n",
            "     - Avg length: 8.204406779661015\n",
            "     - Median length: 7.58\n",
            "26) Speaker id: 5536\n",
            "     - N. audios: 59\n",
            "     - Max length: 20.88\n",
            "     - Min length: 2.09\n",
            "     - Avg length: 8.268813559322034\n",
            "     - Median length: 7.25\n",
            "27) Speaker id: 5694\n",
            "     - N. audios: 83\n",
            "     - Max length: 21.62\n",
            "     - Min length: 1.67\n",
            "     - Avg length: 5.790180722891566\n",
            "     - Median length: 4.565\n",
            "28) Speaker id: 5895\n",
            "     - N. audios: 80\n",
            "     - Max length: 15.95\n",
            "     - Min length: 2.15\n",
            "     - Avg length: 6.01618828125\n",
            "     - Median length: 5.05\n",
            "29) Speaker id: 6241\n",
            "     - N. audios: 78\n",
            "     - Max length: 17.87\n",
            "     - Min length: 2.27\n",
            "     - Avg length: 6.191475961538462\n",
            "     - Median length: 5.5\n",
            "30) Speaker id: 6295\n",
            "     - N. audios: 74\n",
            "     - Max length: 20.82\n",
            "     - Min length: 2.02\n",
            "     - Avg length: 6.517702702702702\n",
            "     - Median length: 5.995\n",
            "31) Speaker id: 6313\n",
            "     - N. audios: 96\n",
            "     - Max length: 14.47\n",
            "     - Min length: 1.86\n",
            "     - Avg length: 5.105885416666667\n",
            "     - Median length: 4.46\n",
            "32) Speaker id: 6319\n",
            "     - N. audios: 55\n",
            "     - Max length: 19.1\n",
            "     - Min length: 2.63\n",
            "     - Avg length: 8.737089772727273\n",
            "     - Median length: 7.8\n",
            "33) Speaker id: 6345\n",
            "     - N. audios: 77\n",
            "     - Max length: 21.93\n",
            "     - Min length: 1.94\n",
            "     - Avg length: 6.290779220779221\n",
            "     - Median length: 5.535\n",
            "34) Speaker id: 652\n",
            "     - N. audios: 71\n",
            "     - Max length: 18.925\n",
            "     - Min length: 2.385\n",
            "     - Avg length: 7.022816901408451\n",
            "     - Median length: 6.025\n",
            "35) Speaker id: 777\n",
            "     - N. audios: 82\n",
            "     - Max length: 18.17\n",
            "     - Min length: 1.505\n",
            "     - Avg length: 5.8986577743902435\n",
            "     - Median length: 4.8875\n",
            "36) Speaker id: 7850\n",
            "     - N. audios: 72\n",
            "     - Max length: 28.945\n",
            "     - Min length: 2.14\n",
            "     - Avg length: 6.716528645833333\n",
            "     - Median length: 6.005\n",
            "37) Speaker id: 7976\n",
            "     - N. audios: 78\n",
            "     - Max length: 16.28\n",
            "     - Min length: 1.935\n",
            "     - Avg length: 6.2553205128205125\n",
            "     - Median length: 5.7875\n",
            "38) Speaker id: 8297\n",
            "     - N. audios: 75\n",
            "     - Max length: 18.085\n",
            "     - Min length: 1.775\n",
            "     - Avg length: 6.434201666666667\n",
            "     - Median length: 5.7\n",
            "39) Speaker id: 84\n",
            "     - N. audios: 65\n",
            "     - Max length: 19.11\n",
            "     - Min length: 2.0\n",
            "     - Avg length: 7.403845192307693\n",
            "     - Median length: 8.185\n",
            "40) Speaker id: 8842\n",
            "     - N. audios: 55\n",
            "     - Max length: 31.7\n",
            "     - Min length: 1.73\n",
            "     - Avg length: 8.835272727272727\n",
            "     - Median length: 8.27\n"
          ]
        }
      ]
    },
    {
      "cell_type": "code",
      "source": [
        "print('Audio lengths Distribution')\n",
        "sns.displot(x=audio_lengths / sr)\n",
        "plt.xlabel(\"Time [s]\")"
      ],
      "metadata": {
        "id": "Ih57M1xxi0i6",
        "colab": {
          "base_uri": "https://localhost:8080/",
          "height": 418
        },
        "outputId": "26dc4ca9-c72e-4fef-ab2c-9971a5d7059e"
      },
      "execution_count": 22,
      "outputs": [
        {
          "output_type": "stream",
          "name": "stdout",
          "text": [
            "Audio lengths Distribution\n"
          ]
        },
        {
          "output_type": "execute_result",
          "data": {
            "text/plain": [
              "Text(0.5, 6.79999999999999, 'Time [s]')"
            ]
          },
          "metadata": {},
          "execution_count": 22
        },
        {
          "output_type": "display_data",
          "data": {
            "image/png": "[encoded data removed]",
            "text/plain": [
              "<Figure size 360x360 with 1 Axes>"
            ]
          },
          "metadata": {
            "needs_background": "light"
          }
        }
      ]
    },
    {
      "cell_type": "markdown",
      "source": [
        "Ecco un esempio di audio scartato poiché danneggiato e non di buona qualità."
      ],
      "metadata": {
        "id": "R1SJkDu_nYMr"
      }
    },
    {
      "cell_type": "code",
      "source": [
        "audio, _ = librosa.load(discarded_paths[0], sr)\n",
        "print(is_voiced(audio, sr, min_voiced_sec=min_voiced_sec, plot=True))\n",
        "ipd.Audio(audio, rate=sr)\n"
      ],
      "metadata": {
        "id": "Lum9TphA8t5B",
        "colab": {
          "base_uri": "https://localhost:8080/",
          "height": 341
        },
        "outputId": "c70fabf7-1535-45dd-a85e-37f53af06a6a"
      },
      "execution_count": 23,
      "outputs": [
        {
          "output_type": "stream",
          "name": "stdout",
          "text": [
            "False\n"
          ]
        },
        {
          "output_type": "execute_result",
          "data": {
            "text/html": [
              "\n",
              "                <audio controls=\"controls\" >\n",
              "                    <source src=\"data:audio/wav;base64,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\" type=\"audio/wav\" />\n",
              "                    Your browser does not support the audio element.\n",
              "                </audio>\n",
              "              "
            ],
            "text/plain": [
              "<IPython.lib.display.Audio object>"
            ]
          },
          "metadata": {},
          "execution_count": 23
        },
        {
          "output_type": "display_data",
          "data": {
            "image/png": "[encoded data removed]",
            "text/plain": [
              "<Figure size 432x288 with 2 Axes>"
            ]
          },
          "metadata": {
            "needs_background": "light"
          }
        }
      ]
    },
    {
      "cell_type": "markdown",
      "source": [
        "# Process the dataset"
      ],
      "metadata": {
        "id": "XB-Z5YM2tF2w"
      }
    },
    {
      "cell_type": "markdown",
      "source": [
        "Da quanto riportato nelle statistiche gli audio hanno delle lunghezze molto variabili, è quindi preferibile rimaneggiare il dataset dividendo quelli più lunghi in frammenti più brevi, tutti della stessa durata e facendo zero-padding sui più corti. \n",
        "Tagliare tutti gli audio ad una lunghezza standard avrebbe causato una grande perdita di materiale utile, che invece in questo modo viene conservato."
      ],
      "metadata": {
        "id": "9GeOhoMqnxqj"
      }
    },
    {
      "cell_type": "code",
      "source": [
        "fragment_dataset(processed_dataset_path, audio_paths, speaker_labels)"
      ],
      "metadata": {
        "id": "HUw-wD7-7Mq5"
      },
      "execution_count": null,
      "outputs": []
    },
    {
      "cell_type": "markdown",
      "source": [
        "# Analyse the new dataset"
      ],
      "metadata": {
        "id": "PK55ai7Mtc9N"
      }
    },
    {
      "cell_type": "markdown",
      "source": [
        "Analizzo il nuovo dataset e scarto nuovamente gli audio che non contengono materiale voiced significativo. Ora questo check è essenziale, essendo probabile che segmentando audio lunghi si creino molti fremmenti silenziosi o con parti finali/iniziali di envelope (esempio riportato sotto)."
      ],
      "metadata": {
        "id": "-qpSWIGLo7GV"
      }
    },
    {
      "cell_type": "code",
      "source": [
        "new_audio_paths, new_speaker_labels, new_gender_labels, new_audio_lengths, new_audio_channels, new_discarded_paths = \\\n",
        "    analyse_dataset(processed_dataset_path, metadata_path, min_legnth=min_length, min_voiced_seg=min_voiced_seg)"
      ],
      "metadata": {
        "id": "rfaQI0EM-1IG"
      },
      "execution_count": null,
      "outputs": []
    },
    {
      "cell_type": "code",
      "source": [
        "print_statistics(new_audio_paths, new_speaker_labels, new_gender_labels, new_audio_lengths, \n",
        "                 new_audio_channels, new_discarded_paths)\n"
      ],
      "metadata": {
        "colab": {
          "base_uri": "https://localhost:8080/"
        },
        "id": "sSL4Ehv_GI6N",
        "outputId": "8bc0aa9d-4e38-43ff-d897-d09ee5663acd"
      },
      "execution_count": null,
      "outputs": [
        {
          "output_type": "stream",
          "name": "stdout",
          "text": [
            "GLOBAL STATISTICS\n",
            "\n",
            " - Tot. n. of audios: 10137\n",
            " - Tot. n. of speakers: 40\n",
            " - Tot. n. of discarded audios: 946\n",
            " - Max length: 2.0\n",
            " - Min length: 2.0\n",
            " - Avg length: 2.0\n",
            " - Median length: 2.0\n",
            " - Number of mono audios: 10137\n",
            " - Number of stereo audios: 0\n",
            "\n",
            "\n",
            "\n",
            "GENDER STATISTICS\n",
            "\n",
            "1) Gender: F\n",
            "     - N. audios: 5104\n",
            "     - Max length: 2.0\n",
            "     - Min length: 2.0\n",
            "     - Avg length: 2.0\n",
            "     - Median length: 2.0\n",
            "2) Gender: M\n",
            "     - N. audios: 5033\n",
            "     - Max length: 2.0\n",
            "     - Min length: 2.0\n",
            "     - Avg length: 2.0\n",
            "     - Median length: 2.0\n",
            "\n",
            "\n",
            "SPEAKER STATISTICS\n",
            "\n",
            "1) Speaker id: 1272\n",
            "     - N. audios: 253\n",
            "     - Max length: 2.0\n",
            "     - Min length: 2.0\n",
            "     - Avg length: 2.0\n",
            "     - Median length: 2.0\n",
            "2) Speaker id: 1462\n",
            "     - N. audios: 269\n",
            "     - Max length: 2.0\n",
            "     - Min length: 2.0\n",
            "     - Avg length: 2.0\n",
            "     - Median length: 2.0\n",
            "3) Speaker id: 1673\n",
            "     - N. audios: 245\n",
            "     - Max length: 2.0\n",
            "     - Min length: 2.0\n",
            "     - Avg length: 2.0\n",
            "     - Median length: 2.0\n",
            "4) Speaker id: 174\n",
            "     - N. audios: 246\n",
            "     - Max length: 2.0\n",
            "     - Min length: 2.0\n",
            "     - Avg length: 2.0\n",
            "     - Median length: 2.0\n",
            "5) Speaker id: 1919\n",
            "     - N. audios: 249\n",
            "     - Max length: 2.0\n",
            "     - Min length: 2.0\n",
            "     - Avg length: 2.0\n",
            "     - Median length: 2.0\n",
            "6) Speaker id: 1988\n",
            "     - N. audios: 257\n",
            "     - Max length: 2.0\n",
            "     - Min length: 2.0\n",
            "     - Avg length: 2.0\n",
            "     - Median length: 2.0\n",
            "7) Speaker id: 1993\n",
            "     - N. audios: 258\n",
            "     - Max length: 2.0\n",
            "     - Min length: 2.0\n",
            "     - Avg length: 2.0\n",
            "     - Median length: 2.0\n",
            "8) Speaker id: 2035\n",
            "     - N. audios: 261\n",
            "     - Max length: 2.0\n",
            "     - Min length: 2.0\n",
            "     - Avg length: 2.0\n",
            "     - Median length: 2.0\n",
            "9) Speaker id: 2078\n",
            "     - N. audios: 243\n",
            "     - Max length: 2.0\n",
            "     - Min length: 2.0\n",
            "     - Avg length: 2.0\n",
            "     - Median length: 2.0\n",
            "10) Speaker id: 2086\n",
            "     - N. audios: 248\n",
            "     - Max length: 2.0\n",
            "     - Min length: 2.0\n",
            "     - Avg length: 2.0\n",
            "     - Median length: 2.0\n",
            "11) Speaker id: 2277\n",
            "     - N. audios: 267\n",
            "     - Max length: 2.0\n",
            "     - Min length: 2.0\n",
            "     - Avg length: 2.0\n",
            "     - Median length: 2.0\n",
            "12) Speaker id: 2412\n",
            "     - N. audios: 246\n",
            "     - Max length: 2.0\n",
            "     - Min length: 2.0\n",
            "     - Avg length: 2.0\n",
            "     - Median length: 2.0\n",
            "13) Speaker id: 2428\n",
            "     - N. audios: 255\n",
            "     - Max length: 2.0\n",
            "     - Min length: 2.0\n",
            "     - Avg length: 2.0\n",
            "     - Median length: 2.0\n",
            "14) Speaker id: 251\n",
            "     - N. audios: 255\n",
            "     - Max length: 2.0\n",
            "     - Min length: 2.0\n",
            "     - Avg length: 2.0\n",
            "     - Median length: 2.0\n",
            "15) Speaker id: 2803\n",
            "     - N. audios: 255\n",
            "     - Max length: 2.0\n",
            "     - Min length: 2.0\n",
            "     - Avg length: 2.0\n",
            "     - Median length: 2.0\n",
            "16) Speaker id: 2902\n",
            "     - N. audios: 245\n",
            "     - Max length: 2.0\n",
            "     - Min length: 2.0\n",
            "     - Avg length: 2.0\n",
            "     - Median length: 2.0\n",
            "17) Speaker id: 3000\n",
            "     - N. audios: 252\n",
            "     - Max length: 2.0\n",
            "     - Min length: 2.0\n",
            "     - Avg length: 2.0\n",
            "     - Median length: 2.0\n",
            "18) Speaker id: 3081\n",
            "     - N. audios: 246\n",
            "     - Max length: 2.0\n",
            "     - Min length: 2.0\n",
            "     - Avg length: 2.0\n",
            "     - Median length: 2.0\n",
            "19) Speaker id: 3170\n",
            "     - N. audios: 252\n",
            "     - Max length: 2.0\n",
            "     - Min length: 2.0\n",
            "     - Avg length: 2.0\n",
            "     - Median length: 2.0\n",
            "20) Speaker id: 3536\n",
            "     - N. audios: 259\n",
            "     - Max length: 2.0\n",
            "     - Min length: 2.0\n",
            "     - Avg length: 2.0\n",
            "     - Median length: 2.0\n",
            "21) Speaker id: 3576\n",
            "     - N. audios: 242\n",
            "     - Max length: 2.0\n",
            "     - Min length: 2.0\n",
            "     - Avg length: 2.0\n",
            "     - Median length: 2.0\n",
            "22) Speaker id: 3752\n",
            "     - N. audios: 268\n",
            "     - Max length: 2.0\n",
            "     - Min length: 2.0\n",
            "     - Avg length: 2.0\n",
            "     - Median length: 2.0\n",
            "23) Speaker id: 3853\n",
            "     - N. audios: 253\n",
            "     - Max length: 2.0\n",
            "     - Min length: 2.0\n",
            "     - Avg length: 2.0\n",
            "     - Median length: 2.0\n",
            "24) Speaker id: 422\n",
            "     - N. audios: 254\n",
            "     - Max length: 2.0\n",
            "     - Min length: 2.0\n",
            "     - Avg length: 2.0\n",
            "     - Median length: 2.0\n",
            "25) Speaker id: 5338\n",
            "     - N. audios: 250\n",
            "     - Max length: 2.0\n",
            "     - Min length: 2.0\n",
            "     - Avg length: 2.0\n",
            "     - Median length: 2.0\n",
            "26) Speaker id: 5536\n",
            "     - N. audios: 253\n",
            "     - Max length: 2.0\n",
            "     - Min length: 2.0\n",
            "     - Avg length: 2.0\n",
            "     - Median length: 2.0\n",
            "27) Speaker id: 5694\n",
            "     - N. audios: 257\n",
            "     - Max length: 2.0\n",
            "     - Min length: 2.0\n",
            "     - Avg length: 2.0\n",
            "     - Median length: 2.0\n",
            "28) Speaker id: 5895\n",
            "     - N. audios: 274\n",
            "     - Max length: 2.0\n",
            "     - Min length: 2.0\n",
            "     - Avg length: 2.0\n",
            "     - Median length: 2.0\n",
            "29) Speaker id: 6241\n",
            "     - N. audios: 248\n",
            "     - Max length: 2.0\n",
            "     - Min length: 2.0\n",
            "     - Avg length: 2.0\n",
            "     - Median length: 2.0\n",
            "30) Speaker id: 6295\n",
            "     - N. audios: 249\n",
            "     - Max length: 2.0\n",
            "     - Min length: 2.0\n",
            "     - Avg length: 2.0\n",
            "     - Median length: 2.0\n",
            "31) Speaker id: 6313\n",
            "     - N. audios: 258\n",
            "     - Max length: 2.0\n",
            "     - Min length: 2.0\n",
            "     - Avg length: 2.0\n",
            "     - Median length: 2.0\n",
            "32) Speaker id: 6319\n",
            "     - N. audios: 253\n",
            "     - Max length: 2.0\n",
            "     - Min length: 2.0\n",
            "     - Avg length: 2.0\n",
            "     - Median length: 2.0\n",
            "33) Speaker id: 6345\n",
            "     - N. audios: 260\n",
            "     - Max length: 2.0\n",
            "     - Min length: 2.0\n",
            "     - Avg length: 2.0\n",
            "     - Median length: 2.0\n",
            "34) Speaker id: 652\n",
            "     - N. audios: 249\n",
            "     - Max length: 2.0\n",
            "     - Min length: 2.0\n",
            "     - Avg length: 2.0\n",
            "     - Median length: 2.0\n",
            "35) Speaker id: 777\n",
            "     - N. audios: 246\n",
            "     - Max length: 2.0\n",
            "     - Min length: 2.0\n",
            "     - Avg length: 2.0\n",
            "     - Median length: 2.0\n",
            "36) Speaker id: 7850\n",
            "     - N. audios: 250\n",
            "     - Max length: 2.0\n",
            "     - Min length: 2.0\n",
            "     - Avg length: 2.0\n",
            "     - Median length: 2.0\n",
            "37) Speaker id: 7976\n",
            "     - N. audios: 259\n",
            "     - Max length: 2.0\n",
            "     - Min length: 2.0\n",
            "     - Avg length: 2.0\n",
            "     - Median length: 2.0\n",
            "38) Speaker id: 8297\n",
            "     - N. audios: 246\n",
            "     - Max length: 2.0\n",
            "     - Min length: 2.0\n",
            "     - Avg length: 2.0\n",
            "     - Median length: 2.0\n",
            "39) Speaker id: 84\n",
            "     - N. audios: 255\n",
            "     - Max length: 2.0\n",
            "     - Min length: 2.0\n",
            "     - Avg length: 2.0\n",
            "     - Median length: 2.0\n",
            "40) Speaker id: 8842\n",
            "     - N. audios: 252\n",
            "     - Max length: 2.0\n",
            "     - Min length: 2.0\n",
            "     - Avg length: 2.0\n",
            "     - Median length: 2.0\n"
          ]
        }
      ]
    },
    {
      "cell_type": "code",
      "source": [
        "audio, _ = librosa.load(new_discarded_paths[0], sr)\n",
        "print(is_voiced(audio, sr, min_voiced_sec=min_voiced_sec, plot=True))\n",
        "ipd.Audio(audio, rate=sr)"
      ],
      "metadata": {
        "colab": {
          "base_uri": "https://localhost:8080/",
          "height": 341
        },
        "id": "mrMN_1LSHyiS",
        "outputId": "ec5b39b3-9b4f-4768-ec05-14fae8be2937"
      },
      "execution_count": null,
      "outputs": [
        {
          "output_type": "stream",
          "name": "stdout",
          "text": [
            "False\n"
          ]
        },
        {
          "output_type": "execute_result",
          "data": {
            "text/html": [
              "\n",
              "                <audio controls=\"controls\" >\n",
              "                    <source src=\"data:audio/wav;base64,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\" type=\"audio/wav\" />\n",
              "                    Your browser does not support the audio element.\n",
              "                </audio>\n",
              "              "
            ],
            "text/plain": [
              "<IPython.lib.display.Audio object>"
            ]
          },
          "metadata": {},
          "execution_count": 616
        },
        {
          "output_type": "display_data",
          "data": {
            "image/png": "[encoded data removed]",
            "text/plain": [
              "<Figure size 432x288 with 2 Axes>"
            ]
          },
          "metadata": {
            "needs_background": "light"
          }
        }
      ]
    },
    {
      "cell_type": "markdown",
      "source": [
        "# Extract MFCCs and prepare dataset"
      ],
      "metadata": {
        "id": "Poc8jURRtqUt"
      }
    },
    {
      "cell_type": "markdown",
      "source": [
        "Estraggo una matrice di MFCC da ogni audio e li salvo in un file JSON insieme a tutte le altre informazioni relative ai dati. Ho scelto di considerare 13 coefficienti, solitamente sufficienti per rappresentare il parlato.\n"
      ],
      "metadata": {
        "id": "cS4c4CPkpx3M"
      }
    },
    {
      "cell_type": "code",
      "source": [
        "extract_MFCCs(new_audio_paths, new_speaker_labels, new_gender_labels, dataset_json_path, n_mfcc=n_mfcc)"
      ],
      "metadata": {
        "id": "qZiVwIgfh3om"
      },
      "execution_count": null,
      "outputs": []
    },
    {
      "cell_type": "markdown",
      "source": [
        "# Outliers Detection"
      ],
      "metadata": {
        "id": "M2kIPn8xtzid"
      }
    },
    {
      "cell_type": "markdown",
      "source": [
        "Carico il dataset appena salvato e analizzo la distribuzione degli MFCC. Per farlo considero singolarmente ogni coefficiente e per ogni audio calcolo alcune statistiche dei suoi valori lungo l'asse temporale. \n",
        "Dalla distribuzione della mediana in particolare è evidente la presenza di outliers (ho riportato i risultati più significativi, in particolare i primi coefficienti)"
      ],
      "metadata": {
        "id": "ybFvNhlKqBhh"
      }
    },
    {
      "cell_type": "code",
      "source": [
        "X, y, files, classes = load_dataset(dataset_json_path, task='gender_recognition') "
      ],
      "metadata": {
        "id": "7KpTK9wPDhYW"
      },
      "execution_count": 7,
      "outputs": []
    },
    {
      "cell_type": "code",
      "source": [
        "n_mfcc_inspect = 4\n",
        "\n",
        "for coeff in range(n_mfcc_inspect):  \n",
        "  coeff_median = []\n",
        "  for i, sample in enumerate(X):\n",
        "    coeffs = [t_bin[coeff] for t_bin in sample]\n",
        "    coeff_median.append(statistics.median(coeffs))\n",
        "  sns.displot(x=coeff_median, hue=y)\n",
        "  plt.xlabel(\"MFCC {}\".format(coeff + 1))\n"
      ],
      "metadata": {
        "colab": {
          "base_uri": "https://localhost:8080/",
          "height": 1000
        },
        "id": "q0xkpeOkBZMh",
        "outputId": "72a0ebfe-5dcc-4a36-ff88-240774cebd26"
      },
      "execution_count": 10,
      "outputs": [
        {
          "output_type": "display_data",
          "data": {
            "image/png": "[encoded data removed]",
            "text/plain": [
              "<Figure size 402.375x360 with 1 Axes>"
            ]
          },
          "metadata": {
            "needs_background": "light"
          }
        },
        {
          "output_type": "display_data",
          "data": {
            "image/png": "[encoded data removed]",
            "text/plain": [
              "<Figure size 402.375x360 with 1 Axes>"
            ]
          },
          "metadata": {
            "needs_background": "light"
          }
        },
        {
          "output_type": "display_data",
          "data": {
            "image/png": "[encoded data removed]",
            "text/plain": [
              "<Figure size 402.375x360 with 1 Axes>"
            ]
          },
          "metadata": {
            "needs_background": "light"
          }
        },
        {
          "output_type": "display_data",
          "data": {
            "image/png": "[encoded data removed]",
            "text/plain": [
              "<Figure size 402.375x360 with 1 Axes>"
            ]
          },
          "metadata": {
            "needs_background": "light"
          }
        }
      ]
    },
    {
      "cell_type": "markdown",
      "source": [
        "Come si può notare dal secodo coefficiente in poi è evidente la presenza di una grande quantità di audio in cui il valore più frequente per il coefficiente selezionato è 0. Questo accade verosimilmente per gli audio a cui è stato fatto zero-padding e che contengono prozioni importanti di silenzi. \n",
        "Per escludere gli outliers ho scelto come riferimento la distribuzione del secondo coefficiente, essendo il caso più estremo.\n",
        "Ho escluso quindi quegli audio in cui ricorressero troppi zeri nella distribuzione temporale di questo coefficiente.\n",
        "Per farlo ho selezionato una soglia massima di zeri (max_zeros). "
      ],
      "metadata": {
        "id": "qrb3wGV3q_HS"
      }
    },
    {
      "cell_type": "code",
      "source": [
        "X, y, files = remove_outliers(X, y, files, ref_mel_coeff=2, max_zeros=10)"
      ],
      "metadata": {
        "colab": {
          "base_uri": "https://localhost:8080/"
        },
        "id": "DsRFyNgrYOC6",
        "outputId": "3b722f5d-ede0-4417-add9-d86a307b9fb6"
      },
      "execution_count": 8,
      "outputs": [
        {
          "output_type": "stream",
          "name": "stdout",
          "text": [
            "1378 outliers removed!\n"
          ]
        }
      ]
    },
    {
      "cell_type": "markdown",
      "source": [
        "# Balance Dataset "
      ],
      "metadata": {
        "id": "yAUAD2iNeGf8"
      }
    },
    {
      "cell_type": "markdown",
      "source": [
        "A questo punto è bene bilanciare il dataset per assicurarsi che entrambe le classi abbiano lo stesso numero di audio, atrimenti il modello potrebbe performare meglio per la classe più numerosa."
      ],
      "metadata": {
        "id": "ckFwaSp0IcuQ"
      }
    },
    {
      "cell_type": "code",
      "source": [
        "X, y, files = balance_dataset(X, y, files)"
      ],
      "metadata": {
        "colab": {
          "base_uri": "https://localhost:8080/"
        },
        "id": "AY2Wcwv_eX4z",
        "outputId": "6d48f31b-8c1a-4c13-8243-88c0e37acb67"
      },
      "execution_count": 9,
      "outputs": [
        {
          "output_type": "stream",
          "name": "stdout",
          "text": [
            "Each class contains 4360 audios\n"
          ]
        }
      ]
    },
    {
      "cell_type": "markdown",
      "source": [
        "# Features Distribution"
      ],
      "metadata": {
        "id": "A9rAuKKClaU5"
      }
    },
    {
      "cell_type": "markdown",
      "source": [
        "Analizzo nuovamente le distribuzioni statistiche dei singoli coefficienti per trovare qualche correlazione con le due classi. Ho riportato i casi più significativi in cui le due distribuzioni si discostano maggiormente, questo accade soprattutto per i coefficienti 4 e 12, che probabilmente codificano informazioni legate al genere. Inoltre, l'istogramma della mediana mostra come la cancellazione degli outliers abbia avuto effetto."
      ],
      "metadata": {
        "id": "jw_92ZkwIziF"
      }
    },
    {
      "cell_type": "code",
      "source": [
        "mean, std, median, min, max = feature_extraction(X)"
      ],
      "metadata": {
        "id": "X8IRAG6S-VY6"
      },
      "execution_count": 10,
      "outputs": []
    },
    {
      "cell_type": "code",
      "source": [
        "print(\"MFCCs MEAN VALUE\")\n",
        "print()\n",
        "print()\n",
        "print()\n",
        "n_mfcc_selection = [4, 12]\n",
        "\n",
        "for coeff in n_mfcc_selection:  \n",
        "  sns.displot(x=mean[:, coeff - 1], hue=y)\n",
        "  plt.title(\"MFCC {}\".format(coeff))\n",
        "  plt.xlabel(\"Mean\")\n",
        "  plt.legend(labels=classes)"
      ],
      "metadata": {
        "colab": {
          "base_uri": "https://localhost:8080/",
          "height": 850
        },
        "id": "_Rkx54HKt_XH",
        "outputId": "d6934cf8-1d1b-44f9-b4ac-60dc0cbaa56f"
      },
      "execution_count": 17,
      "outputs": [
        {
          "output_type": "stream",
          "name": "stdout",
          "text": [
            "MFCCs MEAN VALUE\n",
            "\n",
            "\n",
            "\n"
          ]
        },
        {
          "output_type": "display_data",
          "data": {
            "image/png": "[encoded data removed]",
            "text/plain": [
              "<Figure size 402.375x360 with 1 Axes>"
            ]
          },
          "metadata": {
            "needs_background": "light"
          }
        },
        {
          "output_type": "display_data",
          "data": {
            "image/png": "[encoded data removed]",
            "text/plain": [
              "<Figure size 402.375x360 with 1 Axes>"
            ]
          },
          "metadata": {
            "needs_background": "light"
          }
        }
      ]
    },
    {
      "cell_type": "code",
      "source": [
        "print(\"MFCCs MEDIAN VALUE\")\n",
        "print()\n",
        "print()\n",
        "print()\n",
        "n_mfcc_selection = [2, 12]\n",
        "\n",
        "for coeff in n_mfcc_selection:  \n",
        "  sns.displot(x=median[:, coeff - 1], hue=y)\n",
        "  plt.title(\"MFCC {}\".format(coeff))\n",
        "  plt.xlabel(\"Median\")  \n",
        "  plt.legend(labels=classes)"
      ],
      "metadata": {
        "colab": {
          "base_uri": "https://localhost:8080/",
          "height": 850
        },
        "id": "FE3CX5ek-wyf",
        "outputId": "b6d2e236-954c-414f-aab5-3603a910687f"
      },
      "execution_count": 50,
      "outputs": [
        {
          "output_type": "stream",
          "name": "stdout",
          "text": [
            "MFCCs MEDIAN VALUE\n",
            "\n",
            "\n",
            "\n"
          ]
        },
        {
          "output_type": "display_data",
          "data": {
            "image/png": "[encoded data removed]",
            "text/plain": [
              "<Figure size 402.375x360 with 1 Axes>"
            ]
          },
          "metadata": {
            "needs_background": "light"
          }
        },
        {
          "output_type": "display_data",
          "data": {
            "image/png": "[encoded data removed]",
            "text/plain": [
              "<Figure size 402.375x360 with 1 Axes>"
            ]
          },
          "metadata": {
            "needs_background": "light"
          }
        }
      ]
    },
    {
      "cell_type": "code",
      "source": [
        "print(\"MFCCs MAX VALUE\")\n",
        "print()\n",
        "print()\n",
        "print()\n",
        "n_mfcc_selection = [4, 12]\n",
        "\n",
        "for coeff in n_mfcc_selection:  \n",
        "  sns.displot(x=max[:, coeff - 1], hue=y)\n",
        "  plt.title(\"MFCC {}\".format(coeff))\n",
        "  plt.xlabel(\"Max\")\n",
        "  plt.legend(labels=classes)"
      ],
      "metadata": {
        "colab": {
          "base_uri": "https://localhost:8080/",
          "height": 850
        },
        "id": "q8skqkcjvxi8",
        "outputId": "5dd760af-53e5-419b-f78e-0ee6f10e61d1"
      },
      "execution_count": 21,
      "outputs": [
        {
          "output_type": "stream",
          "name": "stdout",
          "text": [
            "MFCCs MAX VALUE\n",
            "\n",
            "\n",
            "\n"
          ]
        },
        {
          "output_type": "display_data",
          "data": {
            "image/png": "[encoded data removed]",
            "text/plain": [
              "<Figure size 402.375x360 with 1 Axes>"
            ]
          },
          "metadata": {
            "needs_background": "light"
          }
        },
        {
          "output_type": "display_data",
          "data": {
            "image/png": "[encoded data removed]",
            "text/plain": [
              "<Figure size 402.375x360 with 1 Axes>"
            ]
          },
          "metadata": {
            "needs_background": "light"
          }
        }
      ]
    },
    {
      "cell_type": "markdown",
      "source": [
        "# Feature Normalization"
      ],
      "metadata": {
        "id": "nq3JpJi63aSQ"
      }
    },
    {
      "cell_type": "markdown",
      "source": [
        "Nell'ottica di ottenere per ogni audio un vettore di feature ho bisogno di passare da una rappresentazione bidimensionale (MFCCs) ad una monodimensionale. Per questo scelgo di riassumere con cinque statistiche (media, deviazione standard, mediana, minimo, massimo) i valori di ogni coefficiente lungo l'asse temporale, ottengo così un vettore lungo 65 (13 * 5). Successivamente normalizzo ogni feature (colonna del dataframe) sottraendo la sua media calcolata su tutti i sample e imponendo una varianza unitaria. Questo è necessario per far sì che le feature, aventi range diversi, siano portate tutte sulla stessa scala così da poter essere confrontate correttamente."
      ],
      "metadata": {
        "id": "buav4mNlKTsl"
      }
    },
    {
      "cell_type": "code",
      "source": [
        "selected_features = [\"mean\", \"std\", \"median\", \"min\", \"max\"]\n",
        "feature_names = []\n",
        "for feat in selected_features:\n",
        "  feature_names.extend([feat + str(i + 1) for i in range(n_mfcc)])\n",
        "\n",
        "features = []\n",
        "\n",
        "for i, _ in enumerate(X):\n",
        "  feature_vector = np.concatenate((mean[i,:], std[i,:], median[i,:], min[i,:], max[i,:]), axis=None)\n",
        "  features.append(feature_vector)\n",
        "\n",
        "features = pd.DataFrame(features, columns=feature_names)\n",
        "features.head()"
      ],
      "metadata": {
        "colab": {
          "base_uri": "https://localhost:8080/",
          "height": 270
        },
        "id": "TV-Ru4Q_JvnO",
        "outputId": "f3743d99-240c-4dce-bd25-bea1cc3af1d2"
      },
      "execution_count": 11,
      "outputs": [
        {
          "output_type": "execute_result",
          "data": {
            "text/html": [
              "\n",
              "  <div id=\"df-d64e5505-c8a9-46d8-9979-8bd8488fca09\">\n",
              "    <div class=\"colab-df-container\">\n",
              "      <div>\n",
              "<style scoped>\n",
              "    .dataframe tbody tr th:only-of-type {\n",
              "        vertical-align: middle;\n",
              "    }\n",
              "\n",
              "    .dataframe tbody tr th {\n",
              "        vertical-align: top;\n",
              "    }\n",
              "\n",
              "    .dataframe thead th {\n",
              "        text-align: right;\n",
              "    }\n",
              "</style>\n",
              "<table border=\"1\" class=\"dataframe\">\n",
              "  <thead>\n",
              "    <tr style=\"text-align: right;\">\n",
              "      <th></th>\n",
              "      <th>mean1</th>\n",
              "      <th>mean2</th>\n",
              "      <th>mean3</th>\n",
              "      <th>mean4</th>\n",
              "      <th>mean5</th>\n",
              "      <th>mean6</th>\n",
              "      <th>mean7</th>\n",
              "      <th>mean8</th>\n",
              "      <th>mean9</th>\n",
              "      <th>mean10</th>\n",
              "      <th>mean11</th>\n",
              "      <th>mean12</th>\n",
              "      <th>mean13</th>\n",
              "      <th>std1</th>\n",
              "      <th>std2</th>\n",
              "      <th>std3</th>\n",
              "      <th>std4</th>\n",
              "      <th>std5</th>\n",
              "      <th>std6</th>\n",
              "      <th>std7</th>\n",
              "      <th>std8</th>\n",
              "      <th>std9</th>\n",
              "      <th>std10</th>\n",
              "      <th>std11</th>\n",
              "      <th>std12</th>\n",
              "      <th>std13</th>\n",
              "      <th>median1</th>\n",
              "      <th>median2</th>\n",
              "      <th>median3</th>\n",
              "      <th>median4</th>\n",
              "      <th>median5</th>\n",
              "      <th>median6</th>\n",
              "      <th>median7</th>\n",
              "      <th>median8</th>\n",
              "      <th>median9</th>\n",
              "      <th>median10</th>\n",
              "      <th>median11</th>\n",
              "      <th>median12</th>\n",
              "      <th>median13</th>\n",
              "      <th>min1</th>\n",
              "      <th>min2</th>\n",
              "      <th>min3</th>\n",
              "      <th>min4</th>\n",
              "      <th>min5</th>\n",
              "      <th>min6</th>\n",
              "      <th>min7</th>\n",
              "      <th>min8</th>\n",
              "      <th>min9</th>\n",
              "      <th>min10</th>\n",
              "      <th>min11</th>\n",
              "      <th>min12</th>\n",
              "      <th>min13</th>\n",
              "      <th>max1</th>\n",
              "      <th>max2</th>\n",
              "      <th>max3</th>\n",
              "      <th>max4</th>\n",
              "      <th>max5</th>\n",
              "      <th>max6</th>\n",
              "      <th>max7</th>\n",
              "      <th>max8</th>\n",
              "      <th>max9</th>\n",
              "      <th>max10</th>\n",
              "      <th>max11</th>\n",
              "      <th>max12</th>\n",
              "      <th>max13</th>\n",
              "    </tr>\n",
              "  </thead>\n",
              "  <tbody>\n",
              "    <tr>\n",
              "      <th>0</th>\n",
              "      <td>-218.411732</td>\n",
              "      <td>26.792871</td>\n",
              "      <td>36.102605</td>\n",
              "      <td>2.640070</td>\n",
              "      <td>4.944906</td>\n",
              "      <td>-8.473085</td>\n",
              "      <td>-11.223858</td>\n",
              "      <td>1.447939</td>\n",
              "      <td>3.579721</td>\n",
              "      <td>5.129018</td>\n",
              "      <td>-0.988964</td>\n",
              "      <td>0.515822</td>\n",
              "      <td>-1.827044</td>\n",
              "      <td>140.687348</td>\n",
              "      <td>50.897637</td>\n",
              "      <td>43.274897</td>\n",
              "      <td>34.557626</td>\n",
              "      <td>17.360689</td>\n",
              "      <td>18.477519</td>\n",
              "      <td>13.666687</td>\n",
              "      <td>13.277625</td>\n",
              "      <td>13.324093</td>\n",
              "      <td>10.044229</td>\n",
              "      <td>10.465437</td>\n",
              "      <td>9.422014</td>\n",
              "      <td>8.211765</td>\n",
              "      <td>-169.872772</td>\n",
              "      <td>20.779047</td>\n",
              "      <td>37.143192</td>\n",
              "      <td>-1.334069</td>\n",
              "      <td>0.523639</td>\n",
              "      <td>-4.057413</td>\n",
              "      <td>-11.468495</td>\n",
              "      <td>2.549033</td>\n",
              "      <td>6.765078</td>\n",
              "      <td>3.335072</td>\n",
              "      <td>-0.092487</td>\n",
              "      <td>-0.363463</td>\n",
              "      <td>-1.720204</td>\n",
              "      <td>-517.648621</td>\n",
              "      <td>-99.039589</td>\n",
              "      <td>-36.066521</td>\n",
              "      <td>-53.261253</td>\n",
              "      <td>-20.439011</td>\n",
              "      <td>-55.376743</td>\n",
              "      <td>-38.040688</td>\n",
              "      <td>-31.522770</td>\n",
              "      <td>-34.809284</td>\n",
              "      <td>-14.934088</td>\n",
              "      <td>-25.658012</td>\n",
              "      <td>-21.212269</td>\n",
              "      <td>-23.904217</td>\n",
              "      <td>-2.254899</td>\n",
              "      <td>101.211113</td>\n",
              "      <td>165.416306</td>\n",
              "      <td>64.175583</td>\n",
              "      <td>56.034233</td>\n",
              "      <td>19.693634</td>\n",
              "      <td>18.761440</td>\n",
              "      <td>29.895119</td>\n",
              "      <td>22.281509</td>\n",
              "      <td>26.332155</td>\n",
              "      <td>19.345968</td>\n",
              "      <td>19.535387</td>\n",
              "      <td>15.696563</td>\n",
              "    </tr>\n",
              "    <tr>\n",
              "      <th>1</th>\n",
              "      <td>-172.938297</td>\n",
              "      <td>32.984635</td>\n",
              "      <td>45.310204</td>\n",
              "      <td>8.283856</td>\n",
              "      <td>17.380323</td>\n",
              "      <td>-12.275452</td>\n",
              "      <td>-8.707889</td>\n",
              "      <td>-1.516951</td>\n",
              "      <td>-3.335268</td>\n",
              "      <td>-1.188642</td>\n",
              "      <td>0.359463</td>\n",
              "      <td>0.775470</td>\n",
              "      <td>-1.870813</td>\n",
              "      <td>68.053887</td>\n",
              "      <td>80.385188</td>\n",
              "      <td>45.191687</td>\n",
              "      <td>29.651143</td>\n",
              "      <td>14.916770</td>\n",
              "      <td>19.747317</td>\n",
              "      <td>20.015009</td>\n",
              "      <td>16.299645</td>\n",
              "      <td>15.912209</td>\n",
              "      <td>12.370396</td>\n",
              "      <td>8.574705</td>\n",
              "      <td>9.154286</td>\n",
              "      <td>9.318561</td>\n",
              "      <td>-168.564819</td>\n",
              "      <td>37.252598</td>\n",
              "      <td>50.368073</td>\n",
              "      <td>4.371205</td>\n",
              "      <td>15.795216</td>\n",
              "      <td>-12.237529</td>\n",
              "      <td>-6.240558</td>\n",
              "      <td>2.984970</td>\n",
              "      <td>-0.868187</td>\n",
              "      <td>-3.007841</td>\n",
              "      <td>0.438579</td>\n",
              "      <td>0.050435</td>\n",
              "      <td>0.255277</td>\n",
              "      <td>-390.848602</td>\n",
              "      <td>-154.010147</td>\n",
              "      <td>-41.686012</td>\n",
              "      <td>-48.419800</td>\n",
              "      <td>-6.206091</td>\n",
              "      <td>-59.621193</td>\n",
              "      <td>-65.826843</td>\n",
              "      <td>-37.872089</td>\n",
              "      <td>-36.508640</td>\n",
              "      <td>-23.582573</td>\n",
              "      <td>-22.620218</td>\n",
              "      <td>-16.297499</td>\n",
              "      <td>-29.690750</td>\n",
              "      <td>-26.463100</td>\n",
              "      <td>163.143219</td>\n",
              "      <td>116.118187</td>\n",
              "      <td>69.535507</td>\n",
              "      <td>61.681675</td>\n",
              "      <td>26.544140</td>\n",
              "      <td>32.836269</td>\n",
              "      <td>27.134914</td>\n",
              "      <td>23.914019</td>\n",
              "      <td>34.122078</td>\n",
              "      <td>16.478840</td>\n",
              "      <td>23.351686</td>\n",
              "      <td>13.224606</td>\n",
              "    </tr>\n",
              "    <tr>\n",
              "      <th>2</th>\n",
              "      <td>-190.570646</td>\n",
              "      <td>65.691442</td>\n",
              "      <td>27.566529</td>\n",
              "      <td>5.860818</td>\n",
              "      <td>11.232189</td>\n",
              "      <td>-11.070159</td>\n",
              "      <td>-6.879910</td>\n",
              "      <td>-4.383322</td>\n",
              "      <td>1.115685</td>\n",
              "      <td>-0.148235</td>\n",
              "      <td>2.447687</td>\n",
              "      <td>-0.266479</td>\n",
              "      <td>5.901963</td>\n",
              "      <td>111.450218</td>\n",
              "      <td>73.005374</td>\n",
              "      <td>37.734213</td>\n",
              "      <td>30.661232</td>\n",
              "      <td>15.184717</td>\n",
              "      <td>19.301934</td>\n",
              "      <td>15.007741</td>\n",
              "      <td>14.191680</td>\n",
              "      <td>13.829411</td>\n",
              "      <td>9.979733</td>\n",
              "      <td>8.630762</td>\n",
              "      <td>7.846471</td>\n",
              "      <td>9.368232</td>\n",
              "      <td>-144.804520</td>\n",
              "      <td>59.974457</td>\n",
              "      <td>29.817669</td>\n",
              "      <td>9.999265</td>\n",
              "      <td>12.608217</td>\n",
              "      <td>-8.650501</td>\n",
              "      <td>-6.125198</td>\n",
              "      <td>-4.619787</td>\n",
              "      <td>4.590308</td>\n",
              "      <td>-0.800193</td>\n",
              "      <td>1.000782</td>\n",
              "      <td>-1.986961</td>\n",
              "      <td>4.962489</td>\n",
              "      <td>-470.070709</td>\n",
              "      <td>-98.759445</td>\n",
              "      <td>-54.204483</td>\n",
              "      <td>-75.362823</td>\n",
              "      <td>-16.331324</td>\n",
              "      <td>-46.478271</td>\n",
              "      <td>-41.516953</td>\n",
              "      <td>-34.955833</td>\n",
              "      <td>-35.821526</td>\n",
              "      <td>-24.440773</td>\n",
              "      <td>-13.340748</td>\n",
              "      <td>-14.427370</td>\n",
              "      <td>-12.524466</td>\n",
              "      <td>-15.095908</td>\n",
              "      <td>214.469238</td>\n",
              "      <td>101.590393</td>\n",
              "      <td>61.279816</td>\n",
              "      <td>45.032158</td>\n",
              "      <td>35.271729</td>\n",
              "      <td>22.743332</td>\n",
              "      <td>26.608437</td>\n",
              "      <td>24.800446</td>\n",
              "      <td>21.691689</td>\n",
              "      <td>27.677750</td>\n",
              "      <td>17.253094</td>\n",
              "      <td>25.160660</td>\n",
              "    </tr>\n",
              "    <tr>\n",
              "      <th>3</th>\n",
              "      <td>-243.357966</td>\n",
              "      <td>54.227768</td>\n",
              "      <td>20.234669</td>\n",
              "      <td>-4.406631</td>\n",
              "      <td>8.519693</td>\n",
              "      <td>-0.070903</td>\n",
              "      <td>-6.210276</td>\n",
              "      <td>1.070224</td>\n",
              "      <td>3.270662</td>\n",
              "      <td>3.647182</td>\n",
              "      <td>1.215691</td>\n",
              "      <td>1.208315</td>\n",
              "      <td>0.669889</td>\n",
              "      <td>152.318342</td>\n",
              "      <td>80.435599</td>\n",
              "      <td>28.653788</td>\n",
              "      <td>26.262469</td>\n",
              "      <td>12.550876</td>\n",
              "      <td>13.411442</td>\n",
              "      <td>13.912339</td>\n",
              "      <td>17.266333</td>\n",
              "      <td>13.035578</td>\n",
              "      <td>11.357565</td>\n",
              "      <td>7.782757</td>\n",
              "      <td>6.970653</td>\n",
              "      <td>9.673936</td>\n",
              "      <td>-173.576553</td>\n",
              "      <td>50.537941</td>\n",
              "      <td>23.497913</td>\n",
              "      <td>0.019028</td>\n",
              "      <td>9.759993</td>\n",
              "      <td>3.849558</td>\n",
              "      <td>-4.579366</td>\n",
              "      <td>6.091134</td>\n",
              "      <td>6.209550</td>\n",
              "      <td>5.492092</td>\n",
              "      <td>2.555267</td>\n",
              "      <td>0.534128</td>\n",
              "      <td>3.606713</td>\n",
              "      <td>-516.201904</td>\n",
              "      <td>-109.160690</td>\n",
              "      <td>-31.965412</td>\n",
              "      <td>-65.386276</td>\n",
              "      <td>-34.368382</td>\n",
              "      <td>-40.145981</td>\n",
              "      <td>-43.157352</td>\n",
              "      <td>-43.498871</td>\n",
              "      <td>-27.226387</td>\n",
              "      <td>-35.631371</td>\n",
              "      <td>-20.828716</td>\n",
              "      <td>-15.591213</td>\n",
              "      <td>-25.837200</td>\n",
              "      <td>-24.170280</td>\n",
              "      <td>185.095688</td>\n",
              "      <td>101.664322</td>\n",
              "      <td>39.455391</td>\n",
              "      <td>31.568550</td>\n",
              "      <td>21.086601</td>\n",
              "      <td>15.068859</td>\n",
              "      <td>25.290127</td>\n",
              "      <td>21.593754</td>\n",
              "      <td>26.655409</td>\n",
              "      <td>15.731833</td>\n",
              "      <td>19.973944</td>\n",
              "      <td>20.111534</td>\n",
              "    </tr>\n",
              "    <tr>\n",
              "      <th>4</th>\n",
              "      <td>-140.897201</td>\n",
              "      <td>78.938187</td>\n",
              "      <td>40.346365</td>\n",
              "      <td>8.434367</td>\n",
              "      <td>-2.317425</td>\n",
              "      <td>-18.550044</td>\n",
              "      <td>-1.811607</td>\n",
              "      <td>-5.292744</td>\n",
              "      <td>-10.156833</td>\n",
              "      <td>4.396059</td>\n",
              "      <td>3.894000</td>\n",
              "      <td>-1.392413</td>\n",
              "      <td>-2.895487</td>\n",
              "      <td>60.024818</td>\n",
              "      <td>58.127385</td>\n",
              "      <td>31.058525</td>\n",
              "      <td>31.140709</td>\n",
              "      <td>23.463205</td>\n",
              "      <td>15.782907</td>\n",
              "      <td>13.500068</td>\n",
              "      <td>13.915803</td>\n",
              "      <td>16.585529</td>\n",
              "      <td>10.165437</td>\n",
              "      <td>8.882424</td>\n",
              "      <td>9.265630</td>\n",
              "      <td>8.639256</td>\n",
              "      <td>-134.731323</td>\n",
              "      <td>77.071976</td>\n",
              "      <td>40.346725</td>\n",
              "      <td>17.131649</td>\n",
              "      <td>1.098180</td>\n",
              "      <td>-16.935455</td>\n",
              "      <td>-0.393000</td>\n",
              "      <td>-5.095712</td>\n",
              "      <td>-4.495070</td>\n",
              "      <td>5.323954</td>\n",
              "      <td>5.602420</td>\n",
              "      <td>-0.669352</td>\n",
              "      <td>-3.062388</td>\n",
              "      <td>-304.852966</td>\n",
              "      <td>-94.279709</td>\n",
              "      <td>-14.335815</td>\n",
              "      <td>-59.769066</td>\n",
              "      <td>-59.573235</td>\n",
              "      <td>-48.380909</td>\n",
              "      <td>-37.295929</td>\n",
              "      <td>-36.271370</td>\n",
              "      <td>-45.172836</td>\n",
              "      <td>-19.938059</td>\n",
              "      <td>-21.107941</td>\n",
              "      <td>-21.386003</td>\n",
              "      <td>-19.248264</td>\n",
              "      <td>-44.180798</td>\n",
              "      <td>163.155624</td>\n",
              "      <td>105.628960</td>\n",
              "      <td>57.849930</td>\n",
              "      <td>38.021713</td>\n",
              "      <td>21.178070</td>\n",
              "      <td>26.321575</td>\n",
              "      <td>26.056557</td>\n",
              "      <td>21.237804</td>\n",
              "      <td>26.259287</td>\n",
              "      <td>16.836983</td>\n",
              "      <td>21.968830</td>\n",
              "      <td>13.523863</td>\n",
              "    </tr>\n",
              "  </tbody>\n",
              "</table>\n",
              "</div>\n",
              "      <button class=\"colab-df-convert\" onclick=\"convertToInteractive('df-d64e5505-c8a9-46d8-9979-8bd8488fca09')\"\n",
              "              title=\"Convert this dataframe to an interactive table.\"\n",
              "              style=\"display:none;\">\n",
              "        \n",
              "  <svg xmlns=\"http://www.w3.org/2000/svg\" height=\"24px\"viewBox=\"0 0 24 24\"\n",
              "       width=\"24px\">\n",
              "    <path d=\"M0 0h24v24H0V0z\" fill=\"none\"/>\n",
              "    <path d=\"M18.56 5.44l.94 2.06.94-2.06 2.06-.94-2.06-.94-.94-2.06-.94 2.06-2.06.94zm-11 1L8.5 8.5l.94-2.06 2.06-.94-2.06-.94L8.5 2.5l-.94 2.06-2.06.94zm10 10l.94 2.06.94-2.06 2.06-.94-2.06-.94-.94-2.06-.94 2.06-2.06.94z\"/><path d=\"M17.41 7.96l-1.37-1.37c-.4-.4-.92-.59-1.43-.59-.52 0-1.04.2-1.43.59L10.3 9.45l-7.72 7.72c-.78.78-.78 2.05 0 2.83L4 21.41c.39.39.9.59 1.41.59.51 0 1.02-.2 1.41-.59l7.78-7.78 2.81-2.81c.8-.78.8-2.07 0-2.86zM5.41 20L4 18.59l7.72-7.72 1.47 1.35L5.41 20z\"/>\n",
              "  </svg>\n",
              "      </button>\n",
              "      \n",
              "  <style>\n",
              "    .colab-df-container {\n",
              "      display:flex;\n",
              "      flex-wrap:wrap;\n",
              "      gap: 12px;\n",
              "    }\n",
              "\n",
              "    .colab-df-convert {\n",
              "      background-color: #E8F0FE;\n",
              "      border: none;\n",
              "      border-radius: 50%;\n",
              "      cursor: pointer;\n",
              "      display: none;\n",
              "      fill: #1967D2;\n",
              "      height: 32px;\n",
              "      padding: 0 0 0 0;\n",
              "      width: 32px;\n",
              "    }\n",
              "\n",
              "    .colab-df-convert:hover {\n",
              "      background-color: #E2EBFA;\n",
              "      box-shadow: 0px 1px 2px rgba(60, 64, 67, 0.3), 0px 1px 3px 1px rgba(60, 64, 67, 0.15);\n",
              "      fill: #174EA6;\n",
              "    }\n",
              "\n",
              "    [theme=dark] .colab-df-convert {\n",
              "      background-color: #3B4455;\n",
              "      fill: #D2E3FC;\n",
              "    }\n",
              "\n",
              "    [theme=dark] .colab-df-convert:hover {\n",
              "      background-color: #434B5C;\n",
              "      box-shadow: 0px 1px 3px 1px rgba(0, 0, 0, 0.15);\n",
              "      filter: drop-shadow(0px 1px 2px rgba(0, 0, 0, 0.3));\n",
              "      fill: #FFFFFF;\n",
              "    }\n",
              "  </style>\n",
              "\n",
              "      <script>\n",
              "        const buttonEl =\n",
              "          document.querySelector('#df-d64e5505-c8a9-46d8-9979-8bd8488fca09 button.colab-df-convert');\n",
              "        buttonEl.style.display =\n",
              "          google.colab.kernel.accessAllowed ? 'block' : 'none';\n",
              "\n",
              "        async function convertToInteractive(key) {\n",
              "          const element = document.querySelector('#df-d64e5505-c8a9-46d8-9979-8bd8488fca09');\n",
              "          const dataTable =\n",
              "            await google.colab.kernel.invokeFunction('convertToInteractive',\n",
              "                                                     [key], {});\n",
              "          if (!dataTable) return;\n",
              "\n",
              "          const docLinkHtml = 'Like what you see? Visit the ' +\n",
              "            '<a target=\"_blank\" href=https://colab.research.google.com/notebooks/data_table.ipynb>data table notebook</a>'\n",
              "            + ' to learn more about interactive tables.';\n",
              "          element.innerHTML = '';\n",
              "          dataTable['output_type'] = 'display_data';\n",
              "          await google.colab.output.renderOutput(dataTable, element);\n",
              "          const docLink = document.createElement('div');\n",
              "          docLink.innerHTML = docLinkHtml;\n",
              "          element.appendChild(docLink);\n",
              "        }\n",
              "      </script>\n",
              "    </div>\n",
              "  </div>\n",
              "  "
            ],
            "text/plain": [
              "        mean1      mean2      mean3  ...      max11      max12      max13\n",
              "0 -218.411732  26.792871  36.102605  ...  19.345968  19.535387  15.696563\n",
              "1 -172.938297  32.984635  45.310204  ...  16.478840  23.351686  13.224606\n",
              "2 -190.570646  65.691442  27.566529  ...  27.677750  17.253094  25.160660\n",
              "3 -243.357966  54.227768  20.234669  ...  15.731833  19.973944  20.111534\n",
              "4 -140.897201  78.938187  40.346365  ...  16.836983  21.968830  13.523863\n",
              "\n",
              "[5 rows x 65 columns]"
            ]
          },
          "metadata": {},
          "execution_count": 11
        }
      ]
    },
    {
      "cell_type": "code",
      "source": [
        "standard_scaler = preprocessing.StandardScaler()\n",
        "scaled_features = standard_scaler.fit_transform(features)\n",
        "features = pd.DataFrame(scaled_features, columns=feature_names)\n",
        "features.head()"
      ],
      "metadata": {
        "colab": {
          "base_uri": "https://localhost:8080/",
          "height": 270
        },
        "id": "xu4YM6k_hE6W",
        "outputId": "8dfa4932-e0d6-4142-d9d4-e2e968819a8f"
      },
      "execution_count": 12,
      "outputs": [
        {
          "output_type": "execute_result",
          "data": {
            "text/html": [
              "\n",
              "  <div id=\"df-2e1795fe-f10a-4be3-a98c-071f051b1838\">\n",
              "    <div class=\"colab-df-container\">\n",
              "      <div>\n",
              "<style scoped>\n",
              "    .dataframe tbody tr th:only-of-type {\n",
              "        vertical-align: middle;\n",
              "    }\n",
              "\n",
              "    .dataframe tbody tr th {\n",
              "        vertical-align: top;\n",
              "    }\n",
              "\n",
              "    .dataframe thead th {\n",
              "        text-align: right;\n",
              "    }\n",
              "</style>\n",
              "<table border=\"1\" class=\"dataframe\">\n",
              "  <thead>\n",
              "    <tr style=\"text-align: right;\">\n",
              "      <th></th>\n",
              "      <th>mean1</th>\n",
              "      <th>mean2</th>\n",
              "      <th>mean3</th>\n",
              "      <th>mean4</th>\n",
              "      <th>mean5</th>\n",
              "      <th>mean6</th>\n",
              "      <th>mean7</th>\n",
              "      <th>mean8</th>\n",
              "      <th>mean9</th>\n",
              "      <th>mean10</th>\n",
              "      <th>mean11</th>\n",
              "      <th>mean12</th>\n",
              "      <th>mean13</th>\n",
              "      <th>std1</th>\n",
              "      <th>std2</th>\n",
              "      <th>std3</th>\n",
              "      <th>std4</th>\n",
              "      <th>std5</th>\n",
              "      <th>std6</th>\n",
              "      <th>std7</th>\n",
              "      <th>std8</th>\n",
              "      <th>std9</th>\n",
              "      <th>std10</th>\n",
              "      <th>std11</th>\n",
              "      <th>std12</th>\n",
              "      <th>std13</th>\n",
              "      <th>median1</th>\n",
              "      <th>median2</th>\n",
              "      <th>median3</th>\n",
              "      <th>median4</th>\n",
              "      <th>median5</th>\n",
              "      <th>median6</th>\n",
              "      <th>median7</th>\n",
              "      <th>median8</th>\n",
              "      <th>median9</th>\n",
              "      <th>median10</th>\n",
              "      <th>median11</th>\n",
              "      <th>median12</th>\n",
              "      <th>median13</th>\n",
              "      <th>min1</th>\n",
              "      <th>min2</th>\n",
              "      <th>min3</th>\n",
              "      <th>min4</th>\n",
              "      <th>min5</th>\n",
              "      <th>min6</th>\n",
              "      <th>min7</th>\n",
              "      <th>min8</th>\n",
              "      <th>min9</th>\n",
              "      <th>min10</th>\n",
              "      <th>min11</th>\n",
              "      <th>min12</th>\n",
              "      <th>min13</th>\n",
              "      <th>max1</th>\n",
              "      <th>max2</th>\n",
              "      <th>max3</th>\n",
              "      <th>max4</th>\n",
              "      <th>max5</th>\n",
              "      <th>max6</th>\n",
              "      <th>max7</th>\n",
              "      <th>max8</th>\n",
              "      <th>max9</th>\n",
              "      <th>max10</th>\n",
              "      <th>max11</th>\n",
              "      <th>max12</th>\n",
              "      <th>max13</th>\n",
              "    </tr>\n",
              "  </thead>\n",
              "  <tbody>\n",
              "    <tr>\n",
              "      <th>0</th>\n",
              "      <td>-0.089038</td>\n",
              "      <td>-2.342948</td>\n",
              "      <td>1.860971</td>\n",
              "      <td>-1.007979</td>\n",
              "      <td>1.266947</td>\n",
              "      <td>-0.053762</td>\n",
              "      <td>0.050035</td>\n",
              "      <td>0.472676</td>\n",
              "      <td>0.715714</td>\n",
              "      <td>1.499871</td>\n",
              "      <td>0.127057</td>\n",
              "      <td>0.290790</td>\n",
              "      <td>0.566306</td>\n",
              "      <td>0.884913</td>\n",
              "      <td>-0.116427</td>\n",
              "      <td>0.556254</td>\n",
              "      <td>1.536223</td>\n",
              "      <td>-1.035338</td>\n",
              "      <td>0.054625</td>\n",
              "      <td>-0.606311</td>\n",
              "      <td>-0.446019</td>\n",
              "      <td>0.394012</td>\n",
              "      <td>-0.500585</td>\n",
              "      <td>0.177039</td>\n",
              "      <td>-0.118502</td>\n",
              "      <td>-0.493258</td>\n",
              "      <td>0.398017</td>\n",
              "      <td>-2.596106</td>\n",
              "      <td>1.801961</td>\n",
              "      <td>-1.316579</td>\n",
              "      <td>0.874570</td>\n",
              "      <td>0.214578</td>\n",
              "      <td>-0.044525</td>\n",
              "      <td>0.473685</td>\n",
              "      <td>1.060845</td>\n",
              "      <td>1.097293</td>\n",
              "      <td>0.211106</td>\n",
              "      <td>0.077546</td>\n",
              "      <td>0.532316</td>\n",
              "      <td>-0.858644</td>\n",
              "      <td>-1.268944</td>\n",
              "      <td>1.578864</td>\n",
              "      <td>-0.696992</td>\n",
              "      <td>1.975470</td>\n",
              "      <td>-0.599062</td>\n",
              "      <td>0.633868</td>\n",
              "      <td>0.348382</td>\n",
              "      <td>-0.488193</td>\n",
              "      <td>1.570530</td>\n",
              "      <td>-0.126941</td>\n",
              "      <td>0.244710</td>\n",
              "      <td>0.226768</td>\n",
              "      <td>1.384213</td>\n",
              "      <td>-2.466047</td>\n",
              "      <td>3.451375</td>\n",
              "      <td>-0.368137</td>\n",
              "      <td>1.827889</td>\n",
              "      <td>-0.637388</td>\n",
              "      <td>-0.006460</td>\n",
              "      <td>0.377791</td>\n",
              "      <td>-0.183017</td>\n",
              "      <td>0.869152</td>\n",
              "      <td>-0.059029</td>\n",
              "      <td>0.060104</td>\n",
              "      <td>0.126482</td>\n",
              "    </tr>\n",
              "    <tr>\n",
              "      <th>1</th>\n",
              "      <td>0.819405</td>\n",
              "      <td>-2.107429</td>\n",
              "      <td>2.254097</td>\n",
              "      <td>-0.619539</td>\n",
              "      <td>2.044727</td>\n",
              "      <td>-0.348520</td>\n",
              "      <td>0.292060</td>\n",
              "      <td>0.159150</td>\n",
              "      <td>-0.183958</td>\n",
              "      <td>0.491370</td>\n",
              "      <td>0.322487</td>\n",
              "      <td>0.334006</td>\n",
              "      <td>0.558942</td>\n",
              "      <td>-1.111949</td>\n",
              "      <td>2.154934</td>\n",
              "      <td>0.785511</td>\n",
              "      <td>0.621156</td>\n",
              "      <td>-1.487379</td>\n",
              "      <td>0.433348</td>\n",
              "      <td>1.378751</td>\n",
              "      <td>0.476834</td>\n",
              "      <td>1.397063</td>\n",
              "      <td>0.540790</td>\n",
              "      <td>-0.761077</td>\n",
              "      <td>-0.253471</td>\n",
              "      <td>0.038372</td>\n",
              "      <td>0.424217</td>\n",
              "      <td>-2.020887</td>\n",
              "      <td>2.357308</td>\n",
              "      <td>-0.924288</td>\n",
              "      <td>1.779378</td>\n",
              "      <td>-0.386537</td>\n",
              "      <td>0.432758</td>\n",
              "      <td>0.517922</td>\n",
              "      <td>0.083877</td>\n",
              "      <td>0.117308</td>\n",
              "      <td>0.287536</td>\n",
              "      <td>0.146226</td>\n",
              "      <td>0.860368</td>\n",
              "      <td>0.585748</td>\n",
              "      <td>-2.536486</td>\n",
              "      <td>1.408367</td>\n",
              "      <td>-0.460306</td>\n",
              "      <td>2.595503</td>\n",
              "      <td>-0.879319</td>\n",
              "      <td>-1.285497</td>\n",
              "      <td>-0.114708</td>\n",
              "      <td>-0.644234</td>\n",
              "      <td>0.647889</td>\n",
              "      <td>0.197869</td>\n",
              "      <td>0.821443</td>\n",
              "      <td>-0.427553</td>\n",
              "      <td>0.625424</td>\n",
              "      <td>-0.493312</td>\n",
              "      <td>1.656871</td>\n",
              "      <td>-0.099522</td>\n",
              "      <td>2.187862</td>\n",
              "      <td>-0.182394</td>\n",
              "      <td>1.239840</td>\n",
              "      <td>0.112227</td>\n",
              "      <td>-0.020126</td>\n",
              "      <td>1.812689</td>\n",
              "      <td>-0.373697</td>\n",
              "      <td>0.526740</td>\n",
              "      <td>-0.170356</td>\n",
              "    </tr>\n",
              "    <tr>\n",
              "      <th>2</th>\n",
              "      <td>0.467156</td>\n",
              "      <td>-0.863349</td>\n",
              "      <td>1.496516</td>\n",
              "      <td>-0.786307</td>\n",
              "      <td>1.660189</td>\n",
              "      <td>-0.255086</td>\n",
              "      <td>0.467904</td>\n",
              "      <td>-0.143957</td>\n",
              "      <td>0.395132</td>\n",
              "      <td>0.657453</td>\n",
              "      <td>0.625137</td>\n",
              "      <td>0.160583</td>\n",
              "      <td>1.866712</td>\n",
              "      <td>0.081117</td>\n",
              "      <td>1.586483</td>\n",
              "      <td>-0.106438</td>\n",
              "      <td>0.809539</td>\n",
              "      <td>-1.437818</td>\n",
              "      <td>0.300510</td>\n",
              "      <td>-0.186976</td>\n",
              "      <td>-0.166888</td>\n",
              "      <td>0.589853</td>\n",
              "      <td>-0.529458</td>\n",
              "      <td>-0.733264</td>\n",
              "      <td>-0.912776</td>\n",
              "      <td>0.062231</td>\n",
              "      <td>0.900169</td>\n",
              "      <td>-1.227492</td>\n",
              "      <td>1.494343</td>\n",
              "      <td>-0.537306</td>\n",
              "      <td>1.590555</td>\n",
              "      <td>-0.122945</td>\n",
              "      <td>0.443289</td>\n",
              "      <td>-0.253771</td>\n",
              "      <td>0.782500</td>\n",
              "      <td>0.458391</td>\n",
              "      <td>0.368447</td>\n",
              "      <td>-0.191849</td>\n",
              "      <td>1.642057</td>\n",
              "      <td>-0.316679</td>\n",
              "      <td>-1.262484</td>\n",
              "      <td>1.028555</td>\n",
              "      <td>-1.777482</td>\n",
              "      <td>2.154414</td>\n",
              "      <td>-0.011506</td>\n",
              "      <td>0.393740</td>\n",
              "      <td>0.097990</td>\n",
              "      <td>-0.581141</td>\n",
              "      <td>0.556334</td>\n",
              "      <td>1.190058</td>\n",
              "      <td>1.040898</td>\n",
              "      <td>1.513552</td>\n",
              "      <td>0.981721</td>\n",
              "      <td>1.141586</td>\n",
              "      <td>1.128044</td>\n",
              "      <td>-0.513260</td>\n",
              "      <td>1.126606</td>\n",
              "      <td>0.397271</td>\n",
              "      <td>0.346129</td>\n",
              "      <td>0.061574</td>\n",
              "      <td>0.068321</td>\n",
              "      <td>0.307086</td>\n",
              "      <td>0.855386</td>\n",
              "      <td>-0.218963</td>\n",
              "      <td>1.262954</td>\n",
              "    </tr>\n",
              "    <tr>\n",
              "      <th>3</th>\n",
              "      <td>-0.587400</td>\n",
              "      <td>-1.299397</td>\n",
              "      <td>1.183477</td>\n",
              "      <td>-1.492977</td>\n",
              "      <td>1.490534</td>\n",
              "      <td>0.597573</td>\n",
              "      <td>0.532320</td>\n",
              "      <td>0.432734</td>\n",
              "      <td>0.675504</td>\n",
              "      <td>1.263322</td>\n",
              "      <td>0.446581</td>\n",
              "      <td>0.406050</td>\n",
              "      <td>0.986415</td>\n",
              "      <td>1.204676</td>\n",
              "      <td>2.158817</td>\n",
              "      <td>-1.192499</td>\n",
              "      <td>-0.010838</td>\n",
              "      <td>-1.924988</td>\n",
              "      <td>-1.456357</td>\n",
              "      <td>-0.529498</td>\n",
              "      <td>0.772038</td>\n",
              "      <td>0.282195</td>\n",
              "      <td>0.087368</td>\n",
              "      <td>-1.154015</td>\n",
              "      <td>-1.354300</td>\n",
              "      <td>0.209070</td>\n",
              "      <td>0.323825</td>\n",
              "      <td>-1.556994</td>\n",
              "      <td>1.228961</td>\n",
              "      <td>-1.223541</td>\n",
              "      <td>1.421804</td>\n",
              "      <td>0.795621</td>\n",
              "      <td>0.584415</td>\n",
              "      <td>0.833120</td>\n",
              "      <td>0.989744</td>\n",
              "      <td>1.430554</td>\n",
              "      <td>0.592165</td>\n",
              "      <td>0.226487</td>\n",
              "      <td>1.416915</td>\n",
              "      <td>-0.842164</td>\n",
              "      <td>-1.502322</td>\n",
              "      <td>1.703292</td>\n",
              "      <td>-1.289754</td>\n",
              "      <td>1.368660</td>\n",
              "      <td>0.406607</td>\n",
              "      <td>0.280427</td>\n",
              "      <td>-0.525099</td>\n",
              "      <td>0.208095</td>\n",
              "      <td>-0.637507</td>\n",
              "      <td>0.389422</td>\n",
              "      <td>0.904324</td>\n",
              "      <td>0.008193</td>\n",
              "      <td>0.697291</td>\n",
              "      <td>0.205945</td>\n",
              "      <td>1.130735</td>\n",
              "      <td>-1.607001</td>\n",
              "      <td>0.268423</td>\n",
              "      <td>-0.544871</td>\n",
              "      <td>-0.333431</td>\n",
              "      <td>-0.065262</td>\n",
              "      <td>-0.251641</td>\n",
              "      <td>0.908306</td>\n",
              "      <td>-0.455681</td>\n",
              "      <td>0.113728</td>\n",
              "      <td>0.656643</td>\n",
              "    </tr>\n",
              "    <tr>\n",
              "      <th>4</th>\n",
              "      <td>1.459504</td>\n",
              "      <td>-0.359478</td>\n",
              "      <td>2.042162</td>\n",
              "      <td>-0.609180</td>\n",
              "      <td>0.812721</td>\n",
              "      <td>-0.834924</td>\n",
              "      <td>0.955454</td>\n",
              "      <td>-0.240125</td>\n",
              "      <td>-1.071475</td>\n",
              "      <td>1.382867</td>\n",
              "      <td>0.834754</td>\n",
              "      <td>-0.026820</td>\n",
              "      <td>0.386541</td>\n",
              "      <td>-1.332686</td>\n",
              "      <td>0.440465</td>\n",
              "      <td>-0.904881</td>\n",
              "      <td>0.898963</td>\n",
              "      <td>0.093419</td>\n",
              "      <td>-0.749056</td>\n",
              "      <td>-0.658411</td>\n",
              "      <td>-0.251134</td>\n",
              "      <td>1.658015</td>\n",
              "      <td>-0.446323</td>\n",
              "      <td>-0.608398</td>\n",
              "      <td>-0.197339</td>\n",
              "      <td>-0.287920</td>\n",
              "      <td>1.101949</td>\n",
              "      <td>-0.630486</td>\n",
              "      <td>1.936486</td>\n",
              "      <td>-0.046887</td>\n",
              "      <td>0.908610</td>\n",
              "      <td>-0.731764</td>\n",
              "      <td>0.966608</td>\n",
              "      <td>-0.302065</td>\n",
              "      <td>-0.380321</td>\n",
              "      <td>1.404576</td>\n",
              "      <td>1.030705</td>\n",
              "      <td>0.026788</td>\n",
              "      <td>0.309430</td>\n",
              "      <td>1.565332</td>\n",
              "      <td>-1.159188</td>\n",
              "      <td>2.238177</td>\n",
              "      <td>-1.015143</td>\n",
              "      <td>0.270654</td>\n",
              "      <td>-0.137135</td>\n",
              "      <td>0.685313</td>\n",
              "      <td>0.002041</td>\n",
              "      <td>-1.439811</td>\n",
              "      <td>1.036694</td>\n",
              "      <td>0.359566</td>\n",
              "      <td>0.224322</td>\n",
              "      <td>0.753248</td>\n",
              "      <td>0.070076</td>\n",
              "      <td>-0.492917</td>\n",
              "      <td>1.275052</td>\n",
              "      <td>-0.685150</td>\n",
              "      <td>0.679754</td>\n",
              "      <td>-0.538796</td>\n",
              "      <td>0.662976</td>\n",
              "      <td>0.008477</td>\n",
              "      <td>-0.287157</td>\n",
              "      <td>0.860326</td>\n",
              "      <td>-0.334390</td>\n",
              "      <td>0.357652</td>\n",
              "      <td>-0.134421</td>\n",
              "    </tr>\n",
              "  </tbody>\n",
              "</table>\n",
              "</div>\n",
              "      <button class=\"colab-df-convert\" onclick=\"convertToInteractive('df-2e1795fe-f10a-4be3-a98c-071f051b1838')\"\n",
              "              title=\"Convert this dataframe to an interactive table.\"\n",
              "              style=\"display:none;\">\n",
              "        \n",
              "  <svg xmlns=\"http://www.w3.org/2000/svg\" height=\"24px\"viewBox=\"0 0 24 24\"\n",
              "       width=\"24px\">\n",
              "    <path d=\"M0 0h24v24H0V0z\" fill=\"none\"/>\n",
              "    <path d=\"M18.56 5.44l.94 2.06.94-2.06 2.06-.94-2.06-.94-.94-2.06-.94 2.06-2.06.94zm-11 1L8.5 8.5l.94-2.06 2.06-.94-2.06-.94L8.5 2.5l-.94 2.06-2.06.94zm10 10l.94 2.06.94-2.06 2.06-.94-2.06-.94-.94-2.06-.94 2.06-2.06.94z\"/><path d=\"M17.41 7.96l-1.37-1.37c-.4-.4-.92-.59-1.43-.59-.52 0-1.04.2-1.43.59L10.3 9.45l-7.72 7.72c-.78.78-.78 2.05 0 2.83L4 21.41c.39.39.9.59 1.41.59.51 0 1.02-.2 1.41-.59l7.78-7.78 2.81-2.81c.8-.78.8-2.07 0-2.86zM5.41 20L4 18.59l7.72-7.72 1.47 1.35L5.41 20z\"/>\n",
              "  </svg>\n",
              "      </button>\n",
              "      \n",
              "  <style>\n",
              "    .colab-df-container {\n",
              "      display:flex;\n",
              "      flex-wrap:wrap;\n",
              "      gap: 12px;\n",
              "    }\n",
              "\n",
              "    .colab-df-convert {\n",
              "      background-color: #E8F0FE;\n",
              "      border: none;\n",
              "      border-radius: 50%;\n",
              "      cursor: pointer;\n",
              "      display: none;\n",
              "      fill: #1967D2;\n",
              "      height: 32px;\n",
              "      padding: 0 0 0 0;\n",
              "      width: 32px;\n",
              "    }\n",
              "\n",
              "    .colab-df-convert:hover {\n",
              "      background-color: #E2EBFA;\n",
              "      box-shadow: 0px 1px 2px rgba(60, 64, 67, 0.3), 0px 1px 3px 1px rgba(60, 64, 67, 0.15);\n",
              "      fill: #174EA6;\n",
              "    }\n",
              "\n",
              "    [theme=dark] .colab-df-convert {\n",
              "      background-color: #3B4455;\n",
              "      fill: #D2E3FC;\n",
              "    }\n",
              "\n",
              "    [theme=dark] .colab-df-convert:hover {\n",
              "      background-color: #434B5C;\n",
              "      box-shadow: 0px 1px 3px 1px rgba(0, 0, 0, 0.15);\n",
              "      filter: drop-shadow(0px 1px 2px rgba(0, 0, 0, 0.3));\n",
              "      fill: #FFFFFF;\n",
              "    }\n",
              "  </style>\n",
              "\n",
              "      <script>\n",
              "        const buttonEl =\n",
              "          document.querySelector('#df-2e1795fe-f10a-4be3-a98c-071f051b1838 button.colab-df-convert');\n",
              "        buttonEl.style.display =\n",
              "          google.colab.kernel.accessAllowed ? 'block' : 'none';\n",
              "\n",
              "        async function convertToInteractive(key) {\n",
              "          const element = document.querySelector('#df-2e1795fe-f10a-4be3-a98c-071f051b1838');\n",
              "          const dataTable =\n",
              "            await google.colab.kernel.invokeFunction('convertToInteractive',\n",
              "                                                     [key], {});\n",
              "          if (!dataTable) return;\n",
              "\n",
              "          const docLinkHtml = 'Like what you see? Visit the ' +\n",
              "            '<a target=\"_blank\" href=https://colab.research.google.com/notebooks/data_table.ipynb>data table notebook</a>'\n",
              "            + ' to learn more about interactive tables.';\n",
              "          element.innerHTML = '';\n",
              "          dataTable['output_type'] = 'display_data';\n",
              "          await google.colab.output.renderOutput(dataTable, element);\n",
              "          const docLink = document.createElement('div');\n",
              "          docLink.innerHTML = docLinkHtml;\n",
              "          element.appendChild(docLink);\n",
              "        }\n",
              "      </script>\n",
              "    </div>\n",
              "  </div>\n",
              "  "
            ],
            "text/plain": [
              "      mean1     mean2     mean3  ...     max11     max12     max13\n",
              "0 -0.089038 -2.342948  1.860971  ... -0.059029  0.060104  0.126482\n",
              "1  0.819405 -2.107429  2.254097  ... -0.373697  0.526740 -0.170356\n",
              "2  0.467156 -0.863349  1.496516  ...  0.855386 -0.218963  1.262954\n",
              "3 -0.587400 -1.299397  1.183477  ... -0.455681  0.113728  0.656643\n",
              "4  1.459504 -0.359478  2.042162  ... -0.334390  0.357652 -0.134421\n",
              "\n",
              "[5 rows x 65 columns]"
            ]
          },
          "metadata": {},
          "execution_count": 12
        }
      ]
    },
    {
      "cell_type": "markdown",
      "source": [
        "# Dataset Partition"
      ],
      "metadata": {
        "id": "wM-Z1RnYbb4M"
      }
    },
    {
      "cell_type": "markdown",
      "source": [
        "Divido il dataset in train e test destinando il 10% dei dati a quest'ultimo."
      ],
      "metadata": {
        "id": "r7fCXAT2aN9o"
      }
    },
    {
      "cell_type": "code",
      "source": [
        "X_train, X_test, y_train, y_test = train_test_split(features, y, test_size=0.1)\n",
        "\n",
        "print('Training Samples: {}'.format(len(X_train)))\n",
        "print('Test Samples: {}'.format(len(X_test)))"
      ],
      "metadata": {
        "colab": {
          "base_uri": "https://localhost:8080/"
        },
        "id": "PCY3to59bkCc",
        "outputId": "cd320f6f-a60e-48af-a61e-6ff41e415391"
      },
      "execution_count": 69,
      "outputs": [
        {
          "output_type": "stream",
          "name": "stdout",
          "text": [
            "Training Samples: 7848\n",
            "Test Samples: 872\n"
          ]
        }
      ]
    },
    {
      "cell_type": "markdown",
      "source": [
        "# Classifiers\n"
      ],
      "metadata": {
        "id": "Wt9WdwKOPF1s"
      }
    },
    {
      "cell_type": "markdown",
      "source": [
        "# Random Forest (First Baseline)"
      ],
      "metadata": {
        "id": "u84whwOjVooo"
      }
    },
    {
      "cell_type": "markdown",
      "source": [
        "Come prima baseline ho scelto un classificatore semplice, un Random Forest con 100 alberi (valore di default) e una max_depth di 1.\n",
        "Le performance sono valutate attraverso accuracy, precision, recall, ROC e AUC.\n",
        "I risultati sono già buoni, quindi probabilmente le feature usate per rappresentare i dati permettono di discriminare bene le due classi."
      ],
      "metadata": {
        "id": "i1NXA8vVq_nB"
      }
    },
    {
      "cell_type": "code",
      "source": [
        "clf = RandomForestClassifier(max_depth=1, random_state=0)\n",
        "clf.fit(X_train, y_train)\n",
        "y_pred = clf.predict_proba(X_test)\n",
        "metrics(y_test, y_pred[:, 1])"
      ],
      "metadata": {
        "colab": {
          "base_uri": "https://localhost:8080/",
          "height": 361
        },
        "id": "IEpLgPVqUucO",
        "outputId": "ed1a932a-be05-4e88-a1a6-ca39c183ec17"
      },
      "execution_count": 74,
      "outputs": [
        {
          "output_type": "stream",
          "name": "stdout",
          "text": [
            "Accuracy = 0.7856\n",
            "Precision = 0.8000\n",
            "Recall = 0.7575\n",
            "\n"
          ]
        },
        {
          "output_type": "display_data",
          "data": {
            "image/png": "[encoded data removed]",
            "text/plain": [
              "<Figure size 432x288 with 1 Axes>"
            ]
          },
          "metadata": {
            "needs_background": "light"
          }
        }
      ]
    },
    {
      "cell_type": "markdown",
      "source": [
        "## Support Vector Machine (Second Baseline)\n",
        "Come classificatore più sofisticato ho scelto un SVM. Le performance migliorano sensibilmente, fino a raggiungere quasi una classificazione perfetta. Non a caso l'SVM si conferma come uno dei metodi di machine learning più usati, capace di eccellere in task di difficoltà ridotta, dove non è necessario ricorrere al deeplearning."
      ],
      "metadata": {
        "id": "Z3nCXbLcQDNK"
      }
    },
    {
      "cell_type": "code",
      "source": [
        "clf = SVC(gamma='auto', probability=True)\n",
        "clf.fit(X_train, y_train)\n",
        "y_pred = clf.predict_proba(X_test)\n",
        "metrics(y_test, y_pred[:, 1])"
      ],
      "metadata": {
        "colab": {
          "base_uri": "https://localhost:8080/",
          "height": 361
        },
        "id": "_eumGhjkgapr",
        "outputId": "8a1cb60c-6d0e-44e3-9b8a-b51a2ef20da2"
      },
      "execution_count": 42,
      "outputs": [
        {
          "output_type": "stream",
          "name": "stdout",
          "text": [
            "Accuracy = 0.9908\n",
            "Precision = 0.9908\n",
            "Recall = 0.9908\n",
            "\n"
          ]
        },
        {
          "output_type": "display_data",
          "data": {
            "image/png": "[encoded data removed]",
            "text/plain": [
              "<Figure size 432x288 with 1 Axes>"
            ]
          },
          "metadata": {
            "needs_background": "light"
          }
        }
      ]
    },
    {
      "cell_type": "markdown",
      "source": [
        "# Multilayer Perceptron (linear activations)\n",
        "Come prima rete neurale ho scelto il Multilayer Perceptron con funzioni di attivazione esclusivamente lineari per vedere se i dati fossero linearmente separabili. La potenza del deepleaning infatti si basa sull'utilizzo di funzioni non lineari successive che permettono al modello di imparare distribuzioni non lineari dei dati molto complesse. Come si può vedere dalle performance il MLP raggiunge comunque buoni risultati, migliori della baseline naive, quindi probabilmente la distribuzione dei dati nel feature space non presenta grosse non linearità. La rete presenta un input layer, due hidden layers alternati da dropout e batch normalization e un output layer. Per fase di training ho estratto dal training set una porzione del 10% come validation set su cui monitorare l'allenamento epoca per epoca e i dati vengono passati in batch size di 32 (default di Keras). Inoltre, mediante l'uso dell'early stopping faccio terminare il training automaticamente se la validation loss non diminuisce dopo un certo numero di epoche (patience).\n",
        "Come si può vedere dai plot delle validation/training loss e accuracy il modello non overfitta, complici i layer di batch normalization e dropout. Tuttavia per il validation set i risultati sembrano essere molto migliori: questo può essere dovuto proprio al dropout che durante il training disattiva alcuni nodi della rete, mentre durante il calcolo delle metriche sul validation set non è attivo e la rete risulta più performante. Trattandosi di classificazione binaria l'ultima funzione di attivazione è sigmoidale e la loss function è la binary crossentropy. Come ottimizzatore ho scelto adam essendo uno standard che funziona bene. "
      ],
      "metadata": {
        "id": "PoLdLofE07L-"
      }
    },
    {
      "cell_type": "code",
      "source": [
        "X_train = tf.convert_to_tensor(X_train, dtype=\"float32\")\n",
        "y_train = tf.convert_to_tensor(y_train, dtype=\"int64\")"
      ],
      "metadata": {
        "id": "f4ihiNcP0-mh"
      },
      "execution_count": 58,
      "outputs": []
    },
    {
      "cell_type": "code",
      "source": [
        "input_shape = len(X_train[0])\n",
        "\n",
        "input_ = Input(shape=input_shape, name=\"input\")\n",
        "x = Dense(input_shape, activation=\"linear\", name=\"first_FC\")(input_)\n",
        "x = BatchNormalization(name=\"first_BN\")(x)\n",
        "x = Dropout(0.4, name=\"first_dropout\")(x)\n",
        "x = Dense(13, activation=\"linear\", name=\"second_FC\")(x)\n",
        "x = BatchNormalization(name=\"second_BN\")(x)\n",
        "x = Dropout(0.4, name=\"second_dropout\")(x)\n",
        "x = Dense(1, activation=\"sigmoid\", name=\"output\")(x)\n",
        "\n",
        "model = Model(input_, x, name=\"multilayer_perceptron\")\n",
        "\n",
        "model.summary()\n"
      ],
      "metadata": {
        "colab": {
          "base_uri": "https://localhost:8080/"
        },
        "id": "jxyJ2VKOs3Ff",
        "outputId": "b661df58-9739-474f-bf00-fa394d71a82d"
      },
      "execution_count": 83,
      "outputs": [
        {
          "output_type": "stream",
          "name": "stdout",
          "text": [
            "Model: \"multilayer_perceptron\"\n",
            "_________________________________________________________________\n",
            " Layer (type)                Output Shape              Param #   \n",
            "=================================================================\n",
            " input (InputLayer)          [(None, 65)]              0         \n",
            "                                                                 \n",
            " first_FC (Dense)            (None, 65)                4290      \n",
            "                                                                 \n",
            " first_BN (BatchNormalizatio  (None, 65)               260       \n",
            " n)                                                              \n",
            "                                                                 \n",
            " first_dropout (Dropout)     (None, 65)                0         \n",
            "                                                                 \n",
            " second_FC (Dense)           (None, 13)                858       \n",
            "                                                                 \n",
            " second_BN (BatchNormalizati  (None, 13)               52        \n",
            " on)                                                             \n",
            "                                                                 \n",
            " second_dropout (Dropout)    (None, 13)                0         \n",
            "                                                                 \n",
            " output (Dense)              (None, 1)                 14        \n",
            "                                                                 \n",
            "=================================================================\n",
            "Total params: 5,474\n",
            "Trainable params: 5,318\n",
            "Non-trainable params: 156\n",
            "_________________________________________________________________\n"
          ]
        }
      ]
    },
    {
      "cell_type": "code",
      "source": [
        "# TRAINING\n",
        "es = EarlyStopping(monitor='val_loss', mode='min', patience=10)\n",
        "mc = ModelCheckpoint(os.path.join(trained_models_path, 'MLP_best_model.h5'), \n",
        "                     monitor='val_loss', mode='min', save_best_only=True)\n",
        "\n",
        "model.compile(optimizer='adam', loss='binary_crossentropy', metrics=['accuracy'])\n",
        "mlp_history = model.fit(X_train, y_train, validation_split=0.1, epochs=100, callbacks=[es, mc])"
      ],
      "metadata": {
        "colab": {
          "base_uri": "https://localhost:8080/"
        },
        "id": "-BoRoP7NxMMs",
        "outputId": "a2d55f64-9acd-49de-d6fb-2ad5995cdc10"
      },
      "execution_count": 84,
      "outputs": [
        {
          "output_type": "stream",
          "name": "stdout",
          "text": [
            "Epoch 1/100\n",
            "221/221 [==============================] - 4s 11ms/step - loss: 0.4578 - accuracy: 0.7824 - val_loss: 0.2782 - val_accuracy: 0.8752\n",
            "Epoch 2/100\n",
            "221/221 [==============================] - 1s 4ms/step - loss: 0.3453 - accuracy: 0.8502 - val_loss: 0.2668 - val_accuracy: 0.8713\n",
            "Epoch 3/100\n",
            "221/221 [==============================] - 1s 4ms/step - loss: 0.3265 - accuracy: 0.8655 - val_loss: 0.2630 - val_accuracy: 0.8752\n",
            "Epoch 4/100\n",
            "221/221 [==============================] - 1s 4ms/step - loss: 0.3175 - accuracy: 0.8611 - val_loss: 0.2607 - val_accuracy: 0.8790\n",
            "Epoch 5/100\n",
            "221/221 [==============================] - 1s 4ms/step - loss: 0.3254 - accuracy: 0.8587 - val_loss: 0.2623 - val_accuracy: 0.8790\n",
            "Epoch 6/100\n",
            "221/221 [==============================] - 1s 4ms/step - loss: 0.3083 - accuracy: 0.8716 - val_loss: 0.2587 - val_accuracy: 0.8803\n",
            "Epoch 7/100\n",
            "221/221 [==============================] - 1s 3ms/step - loss: 0.3060 - accuracy: 0.8697 - val_loss: 0.2571 - val_accuracy: 0.8828\n",
            "Epoch 8/100\n",
            "221/221 [==============================] - 1s 3ms/step - loss: 0.3079 - accuracy: 0.8731 - val_loss: 0.2590 - val_accuracy: 0.8777\n",
            "Epoch 9/100\n",
            "221/221 [==============================] - 1s 3ms/step - loss: 0.3034 - accuracy: 0.8743 - val_loss: 0.2593 - val_accuracy: 0.8790\n",
            "Epoch 10/100\n",
            "221/221 [==============================] - 1s 4ms/step - loss: 0.2992 - accuracy: 0.8774 - val_loss: 0.2561 - val_accuracy: 0.8790\n",
            "Epoch 11/100\n",
            "221/221 [==============================] - 1s 4ms/step - loss: 0.3019 - accuracy: 0.8730 - val_loss: 0.2544 - val_accuracy: 0.8828\n",
            "Epoch 12/100\n",
            "221/221 [==============================] - 1s 4ms/step - loss: 0.2997 - accuracy: 0.8697 - val_loss: 0.2545 - val_accuracy: 0.8841\n",
            "Epoch 13/100\n",
            "221/221 [==============================] - 1s 3ms/step - loss: 0.3026 - accuracy: 0.8754 - val_loss: 0.2548 - val_accuracy: 0.8790\n",
            "Epoch 14/100\n",
            "221/221 [==============================] - 1s 3ms/step - loss: 0.3060 - accuracy: 0.8726 - val_loss: 0.2540 - val_accuracy: 0.8841\n",
            "Epoch 15/100\n",
            "221/221 [==============================] - 1s 4ms/step - loss: 0.3004 - accuracy: 0.8727 - val_loss: 0.2553 - val_accuracy: 0.8841\n",
            "Epoch 16/100\n",
            "221/221 [==============================] - 1s 3ms/step - loss: 0.3032 - accuracy: 0.8727 - val_loss: 0.2595 - val_accuracy: 0.8803\n",
            "Epoch 17/100\n",
            "221/221 [==============================] - 1s 4ms/step - loss: 0.3042 - accuracy: 0.8717 - val_loss: 0.2535 - val_accuracy: 0.8892\n",
            "Epoch 18/100\n",
            "221/221 [==============================] - 1s 3ms/step - loss: 0.2937 - accuracy: 0.8802 - val_loss: 0.2539 - val_accuracy: 0.8854\n",
            "Epoch 19/100\n",
            "221/221 [==============================] - 1s 4ms/step - loss: 0.2976 - accuracy: 0.8748 - val_loss: 0.2524 - val_accuracy: 0.8892\n",
            "Epoch 20/100\n",
            "221/221 [==============================] - 1s 3ms/step - loss: 0.2969 - accuracy: 0.8772 - val_loss: 0.2529 - val_accuracy: 0.8904\n",
            "Epoch 21/100\n",
            "221/221 [==============================] - 1s 3ms/step - loss: 0.3011 - accuracy: 0.8703 - val_loss: 0.2553 - val_accuracy: 0.8879\n",
            "Epoch 22/100\n",
            "221/221 [==============================] - 1s 3ms/step - loss: 0.2994 - accuracy: 0.8747 - val_loss: 0.2539 - val_accuracy: 0.8879\n",
            "Epoch 23/100\n",
            "221/221 [==============================] - 1s 3ms/step - loss: 0.2985 - accuracy: 0.8741 - val_loss: 0.2525 - val_accuracy: 0.8904\n",
            "Epoch 24/100\n",
            "221/221 [==============================] - 1s 3ms/step - loss: 0.2976 - accuracy: 0.8758 - val_loss: 0.2530 - val_accuracy: 0.8866\n",
            "Epoch 25/100\n",
            "221/221 [==============================] - 1s 3ms/step - loss: 0.2985 - accuracy: 0.8764 - val_loss: 0.2532 - val_accuracy: 0.8854\n",
            "Epoch 26/100\n",
            "221/221 [==============================] - 1s 3ms/step - loss: 0.2907 - accuracy: 0.8763 - val_loss: 0.2521 - val_accuracy: 0.8955\n",
            "Epoch 27/100\n",
            "221/221 [==============================] - 1s 3ms/step - loss: 0.2922 - accuracy: 0.8798 - val_loss: 0.2544 - val_accuracy: 0.8815\n",
            "Epoch 28/100\n",
            "221/221 [==============================] - 1s 4ms/step - loss: 0.2935 - accuracy: 0.8804 - val_loss: 0.2513 - val_accuracy: 0.8904\n",
            "Epoch 29/100\n",
            "221/221 [==============================] - 1s 4ms/step - loss: 0.2966 - accuracy: 0.8774 - val_loss: 0.2524 - val_accuracy: 0.8854\n",
            "Epoch 30/100\n",
            "221/221 [==============================] - 1s 3ms/step - loss: 0.2934 - accuracy: 0.8781 - val_loss: 0.2526 - val_accuracy: 0.8904\n",
            "Epoch 31/100\n",
            "221/221 [==============================] - 1s 3ms/step - loss: 0.2940 - accuracy: 0.8806 - val_loss: 0.2529 - val_accuracy: 0.8841\n",
            "Epoch 32/100\n",
            "221/221 [==============================] - 1s 3ms/step - loss: 0.2948 - accuracy: 0.8748 - val_loss: 0.2532 - val_accuracy: 0.8917\n",
            "Epoch 33/100\n",
            "221/221 [==============================] - 1s 4ms/step - loss: 0.2945 - accuracy: 0.8777 - val_loss: 0.2504 - val_accuracy: 0.8879\n",
            "Epoch 34/100\n",
            "221/221 [==============================] - 1s 3ms/step - loss: 0.2918 - accuracy: 0.8805 - val_loss: 0.2515 - val_accuracy: 0.8879\n",
            "Epoch 35/100\n",
            "221/221 [==============================] - 1s 3ms/step - loss: 0.2913 - accuracy: 0.8828 - val_loss: 0.2528 - val_accuracy: 0.8892\n",
            "Epoch 36/100\n",
            "221/221 [==============================] - 1s 3ms/step - loss: 0.2914 - accuracy: 0.8811 - val_loss: 0.2518 - val_accuracy: 0.8904\n",
            "Epoch 37/100\n",
            "221/221 [==============================] - 1s 3ms/step - loss: 0.2931 - accuracy: 0.8777 - val_loss: 0.2522 - val_accuracy: 0.8892\n",
            "Epoch 38/100\n",
            "221/221 [==============================] - 1s 3ms/step - loss: 0.2995 - accuracy: 0.8746 - val_loss: 0.2536 - val_accuracy: 0.8879\n",
            "Epoch 39/100\n",
            "221/221 [==============================] - 1s 3ms/step - loss: 0.3015 - accuracy: 0.8764 - val_loss: 0.2514 - val_accuracy: 0.8943\n",
            "Epoch 40/100\n",
            "221/221 [==============================] - 1s 3ms/step - loss: 0.2916 - accuracy: 0.8798 - val_loss: 0.2524 - val_accuracy: 0.8854\n",
            "Epoch 41/100\n",
            "221/221 [==============================] - 1s 3ms/step - loss: 0.2949 - accuracy: 0.8754 - val_loss: 0.2553 - val_accuracy: 0.8841\n",
            "Epoch 42/100\n",
            "221/221 [==============================] - 1s 3ms/step - loss: 0.2921 - accuracy: 0.8794 - val_loss: 0.2518 - val_accuracy: 0.8892\n",
            "Epoch 43/100\n",
            "221/221 [==============================] - 1s 3ms/step - loss: 0.2884 - accuracy: 0.8806 - val_loss: 0.2526 - val_accuracy: 0.8879\n"
          ]
        }
      ]
    },
    {
      "cell_type": "code",
      "source": [
        "plt.plot(mlp_history.history['accuracy'])\n",
        "plt.plot(mlp_history.history['val_accuracy'])\n",
        "plt.title('MLP accuracy')\n",
        "plt.ylabel('accuracy')\n",
        "plt.xlabel('epoch')\n",
        "plt.legend(['train', 'val'], loc='upper left')\n",
        "plt.show()\n",
        "\n",
        "plt.plot(mlp_history.history['loss'])\n",
        "plt.plot(mlp_history.history['val_loss'])\n",
        "plt.title('MLP loss')\n",
        "plt.ylabel('loss')\n",
        "plt.xlabel('epoch')\n",
        "plt.legend(['train', 'val'], loc='upper left')\n",
        "plt.show()"
      ],
      "metadata": {
        "colab": {
          "base_uri": "https://localhost:8080/",
          "height": 573
        },
        "id": "5ix758mV16SX",
        "outputId": "75be3819-6759-4ca5-a7d5-6054b15d6cf4"
      },
      "execution_count": 85,
      "outputs": [
        {
          "output_type": "display_data",
          "data": {
            "image/png": "[encoded data removed]",
            "text/plain": [
              "<Figure size 432x288 with 1 Axes>"
            ]
          },
          "metadata": {
            "needs_background": "light"
          }
        },
        {
          "output_type": "display_data",
          "data": {
            "image/png": "[encoded data removed]",
            "text/plain": [
              "<Figure size 432x288 with 1 Axes>"
            ]
          },
          "metadata": {
            "needs_background": "light"
          }
        }
      ]
    },
    {
      "cell_type": "code",
      "source": [
        "mlp_model = load_model(os.path.join(trained_models_path, 'MLP_best_model.h5'))\n",
        "y_pred = mlp_model.predict(X_test)\n",
        "metrics(y_test, y_pred)"
      ],
      "metadata": {
        "colab": {
          "base_uri": "https://localhost:8080/",
          "height": 361
        },
        "id": "uNPGCmVA39Yk",
        "outputId": "e2049018-2c35-4533-c37f-2fc7118f1feb"
      },
      "execution_count": 86,
      "outputs": [
        {
          "output_type": "stream",
          "name": "stdout",
          "text": [
            "Accuracy = 0.8945\n",
            "Precision = 0.9007\n",
            "Recall = 0.8926\n",
            "\n"
          ]
        },
        {
          "output_type": "display_data",
          "data": {
            "image/png": "[encoded data removed]",
            "text/plain": [
              "<Figure size 432x288 with 1 Axes>"
            ]
          },
          "metadata": {
            "needs_background": "light"
          }
        }
      ]
    },
    {
      "cell_type": "markdown",
      "source": [
        "## 2D Convolutional Neural Network\n",
        "Come seconda rete neurale ho scelto una Convolutional Neural Network. Tale rete si presta particolarmente alla struttura bidimensionale degli MFCC estratti, li ho quindi dati come input diretti senza considerare le loro statistiche come per i modelli precedenti. In questo modo sarà la rete ad estrarre dagli MFCC le rappresentazioni più informative, senza passare per il \"filtro umano\". Questa volta ho usato funzioni di attivazione non lineari, LeakyRelu nello specifico, che limitano i problemi di vanishing gradients e accelerano l'allenamento. L'architettura della rete si compone di un input layer, tre strati convoluionali alternati da Maxpooling, batch normalization e dropout e due strati fully connected, dopo il flattening. La loss function, l'ultima funzione di attivazione, la batch size e l'ottimizzatore sono gli stessi della rete precedente. Anche in questo caso i grafici mostrano che la rete non overfitta, complici sempre gli strati di batch normalization e dropout. Le performance di questo modello sono molto simili a quelle della baseline SVM, anche se leggermente migliori. Questo suggerisce quanto in un problema di questo tipo sia perfettamente ragionevole usare un algoritmo standard di machine learning piuttosto che uno di DeepLearning che solitamente richiede più risorse."
      ],
      "metadata": {
        "id": "8y-cUEgm4Vka"
      }
    },
    {
      "cell_type": "code",
      "source": [
        "X_train_2D, X_test_2D, y_train_2D, y_test_2D = train_test_split(X, y, test_size=0.1)\n",
        "X_train_2D = tf.convert_to_tensor(X_train_2D, dtype=\"float32\")\n",
        "y_train_2D = tf.convert_to_tensor(y_train_2D, dtype=\"int64\")"
      ],
      "metadata": {
        "id": "VK8-z_Nr4b1D"
      },
      "execution_count": 16,
      "outputs": []
    },
    {
      "cell_type": "code",
      "source": [
        "input_shape = (X_train_2D.shape[1], X_train_2D.shape[2], 1)\n",
        "\n",
        "input_ = Input(shape=input_shape, name=\"input\")\n",
        "x = Conv2D(32, (3,3), activation=\"leaky_relu\", name=\"first_conv2D\")(input_)\n",
        "x = BatchNormalization(name=\"first_BN\")(x)\n",
        "x = Conv2D(64, (3,3), activation=\"leaky_relu\", name=\"second_conv2D\")(x)\n",
        "x = BatchNormalization(name=\"second_BN\")(x)\n",
        "x = MaxPool2D(name=\"first_maxpool\", padding='same')(x)\n",
        "x = Dropout(0.4, name=\"first_dropout\")(x)\n",
        "x = Conv2D(128, (3,3), activation=\"leaky_relu\", name=\"third_conv2D\")(x)\n",
        "x = BatchNormalization(name=\"third_BN\")(x)\n",
        "x = MaxPool2D(name=\"second_maxpool\", padding='same')(x)\n",
        "x = Dropout(0.4, name=\"second_dropout\")(x)\n",
        "x = Flatten(name=\"flatten\")(x)\n",
        "x = Dense(1024, activation=\"leaky_relu\", name=\"first_FC\")(x)\n",
        "x = Dropout(0.4, name=\"third_dropout\")(x)\n",
        "x = Dense(256, activation=\"leaky_relu\", name=\"second_FC\")(x)\n",
        "x = Dropout(0.2, name=\"fourth_dropout\")(x)\n",
        "x = Dense(1, activation=\"sigmoid\", name=\"output\")(x)\n",
        "\n",
        "model = Model(input_, x, name=\"convolutional_2D\")\n",
        "\n",
        "model.summary()\n"
      ],
      "metadata": {
        "colab": {
          "base_uri": "https://localhost:8080/"
        },
        "id": "ZkSMiqBC84xm",
        "outputId": "2860704f-e6bb-4418-c071-d8bdd8c9da79"
      },
      "execution_count": 65,
      "outputs": [
        {
          "output_type": "stream",
          "name": "stdout",
          "text": [
            "Model: \"convolutional_2D\"\n",
            "_________________________________________________________________\n",
            " Layer (type)                Output Shape              Param #   \n",
            "=================================================================\n",
            " input (InputLayer)          [(None, 63, 13, 1)]       0         \n",
            "                                                                 \n",
            " first_conv2D (Conv2D)       (None, 61, 11, 32)        320       \n",
            "                                                                 \n",
            " first_BN (BatchNormalizatio  (None, 61, 11, 32)       128       \n",
            " n)                                                              \n",
            "                                                                 \n",
            " second_conv2D (Conv2D)      (None, 59, 9, 64)         18496     \n",
            "                                                                 \n",
            " second_BN (BatchNormalizati  (None, 59, 9, 64)        256       \n",
            " on)                                                             \n",
            "                                                                 \n",
            " first_maxpool (MaxPooling2D  (None, 30, 5, 64)        0         \n",
            " )                                                               \n",
            "                                                                 \n",
            " first_dropout (Dropout)     (None, 30, 5, 64)         0         \n",
            "                                                                 \n",
            " third_conv2D (Conv2D)       (None, 28, 3, 128)        73856     \n",
            "                                                                 \n",
            " third_BN (BatchNormalizatio  (None, 28, 3, 128)       512       \n",
            " n)                                                              \n",
            "                                                                 \n",
            " second_maxpool (MaxPooling2  (None, 14, 2, 128)       0         \n",
            " D)                                                              \n",
            "                                                                 \n",
            " second_dropout (Dropout)    (None, 14, 2, 128)        0         \n",
            "                                                                 \n",
            " flatten (Flatten)           (None, 3584)              0         \n",
            "                                                                 \n",
            " first_FC (Dense)            (None, 1024)              3671040   \n",
            "                                                                 \n",
            " third_dropout (Dropout)     (None, 1024)              0         \n",
            "                                                                 \n",
            " second_FC (Dense)           (None, 256)               262400    \n",
            "                                                                 \n",
            " fourth_dropout (Dropout)    (None, 256)               0         \n",
            "                                                                 \n",
            " output (Dense)              (None, 1)                 257       \n",
            "                                                                 \n",
            "=================================================================\n",
            "Total params: 4,027,265\n",
            "Trainable params: 4,026,817\n",
            "Non-trainable params: 448\n",
            "_________________________________________________________________\n"
          ]
        }
      ]
    },
    {
      "cell_type": "code",
      "source": [
        "es = EarlyStopping(monitor='val_loss', mode='min', patience=9)\n",
        "mc = ModelCheckpoint(os.path.join(trained_models_path, 'CNN_best_model.h5'), \n",
        "                     monitor='val_loss', mode='min', save_best_only=True)\n",
        "\n",
        "model.compile(optimizer='adam', loss='binary_crossentropy', metrics=['accuracy'])\n",
        "cnn_history = model.fit(X_train_2D, y_train_2D, validation_split=0.1, epochs=100, callbacks=[es, mc])"
      ],
      "metadata": {
        "colab": {
          "base_uri": "https://localhost:8080/"
        },
        "id": "zW6-y_mOATEZ",
        "outputId": "043981ac-7119-4f58-aeb5-5ef966fadbc3"
      },
      "execution_count": 66,
      "outputs": [
        {
          "output_type": "stream",
          "name": "stdout",
          "text": [
            "Epoch 1/100\n",
            "221/221 [==============================] - 3s 8ms/step - loss: 0.6634 - accuracy: 0.7791 - val_loss: 0.1866 - val_accuracy: 0.9274\n",
            "Epoch 2/100\n",
            "221/221 [==============================] - 1s 6ms/step - loss: 0.2703 - accuracy: 0.9019 - val_loss: 0.3167 - val_accuracy: 0.9045\n",
            "Epoch 3/100\n",
            "221/221 [==============================] - 2s 7ms/step - loss: 0.1706 - accuracy: 0.9364 - val_loss: 0.0779 - val_accuracy: 0.9656\n",
            "Epoch 4/100\n",
            "221/221 [==============================] - 1s 6ms/step - loss: 0.1369 - accuracy: 0.9492 - val_loss: 0.2707 - val_accuracy: 0.8981\n",
            "Epoch 5/100\n",
            "221/221 [==============================] - 1s 7ms/step - loss: 0.1039 - accuracy: 0.9632 - val_loss: 0.1694 - val_accuracy: 0.9350\n",
            "Epoch 6/100\n",
            "221/221 [==============================] - 2s 7ms/step - loss: 0.0955 - accuracy: 0.9669 - val_loss: 0.0452 - val_accuracy: 0.9834\n",
            "Epoch 7/100\n",
            "221/221 [==============================] - 1s 6ms/step - loss: 0.0919 - accuracy: 0.9683 - val_loss: 0.0497 - val_accuracy: 0.9822\n",
            "Epoch 8/100\n",
            "221/221 [==============================] - 2s 7ms/step - loss: 0.0809 - accuracy: 0.9703 - val_loss: 0.0302 - val_accuracy: 0.9885\n",
            "Epoch 9/100\n",
            "221/221 [==============================] - 1s 6ms/step - loss: 0.0686 - accuracy: 0.9747 - val_loss: 0.0420 - val_accuracy: 0.9898\n",
            "Epoch 10/100\n",
            "221/221 [==============================] - 1s 6ms/step - loss: 0.0562 - accuracy: 0.9803 - val_loss: 0.0466 - val_accuracy: 0.9834\n",
            "Epoch 11/100\n",
            "221/221 [==============================] - 1s 6ms/step - loss: 0.0438 - accuracy: 0.9841 - val_loss: 0.0920 - val_accuracy: 0.9771\n",
            "Epoch 12/100\n",
            "221/221 [==============================] - 2s 7ms/step - loss: 0.0527 - accuracy: 0.9803 - val_loss: 0.0191 - val_accuracy: 0.9911\n",
            "Epoch 13/100\n",
            "221/221 [==============================] - 1s 6ms/step - loss: 0.0436 - accuracy: 0.9849 - val_loss: 0.0864 - val_accuracy: 0.9732\n",
            "Epoch 14/100\n",
            "221/221 [==============================] - 2s 7ms/step - loss: 0.0492 - accuracy: 0.9850 - val_loss: 0.0168 - val_accuracy: 0.9924\n",
            "Epoch 15/100\n",
            "221/221 [==============================] - 1s 6ms/step - loss: 0.0411 - accuracy: 0.9849 - val_loss: 0.0354 - val_accuracy: 0.9834\n",
            "Epoch 16/100\n",
            "221/221 [==============================] - 1s 6ms/step - loss: 0.0376 - accuracy: 0.9861 - val_loss: 0.0215 - val_accuracy: 0.9885\n",
            "Epoch 17/100\n",
            "221/221 [==============================] - 1s 6ms/step - loss: 0.0348 - accuracy: 0.9882 - val_loss: 0.0275 - val_accuracy: 0.9898\n",
            "Epoch 18/100\n",
            "221/221 [==============================] - 1s 6ms/step - loss: 0.0321 - accuracy: 0.9891 - val_loss: 0.0341 - val_accuracy: 0.9898\n",
            "Epoch 19/100\n",
            "221/221 [==============================] - 1s 7ms/step - loss: 0.0324 - accuracy: 0.9888 - val_loss: 0.0205 - val_accuracy: 0.9936\n",
            "Epoch 20/100\n",
            "221/221 [==============================] - 1s 6ms/step - loss: 0.0346 - accuracy: 0.9885 - val_loss: 0.0288 - val_accuracy: 0.9898\n",
            "Epoch 21/100\n",
            "221/221 [==============================] - 1s 6ms/step - loss: 0.0363 - accuracy: 0.9861 - val_loss: 0.0465 - val_accuracy: 0.9885\n",
            "Epoch 22/100\n",
            "221/221 [==============================] - 1s 6ms/step - loss: 0.0330 - accuracy: 0.9892 - val_loss: 0.0818 - val_accuracy: 0.9707\n",
            "Epoch 23/100\n",
            "221/221 [==============================] - 1s 7ms/step - loss: 0.0354 - accuracy: 0.9877 - val_loss: 0.0189 - val_accuracy: 0.9911\n"
          ]
        }
      ]
    },
    {
      "cell_type": "code",
      "source": [
        "plt.plot(cnn_history.history['accuracy'])\n",
        "plt.plot(cnn_history.history['val_accuracy'])\n",
        "plt.title('CNN accuracy')\n",
        "plt.ylabel('accuracy')\n",
        "plt.xlabel('epoch')\n",
        "plt.legend(['train', 'val'], loc='upper left')\n",
        "plt.show()\n",
        "\n",
        "plt.plot(cnn_history.history['loss'])\n",
        "plt.plot(cnn_history.history['val_loss'])\n",
        "plt.title('CNN loss')\n",
        "plt.ylabel('loss')\n",
        "plt.xlabel('epoch')\n",
        "plt.legend(['train', 'val'], loc='upper left')\n",
        "plt.show()"
      ],
      "metadata": {
        "colab": {
          "base_uri": "https://localhost:8080/",
          "height": 573
        },
        "id": "tHbclC1b5TG9",
        "outputId": "3a2c0015-3d80-4148-d557-d2f1965fd63d"
      },
      "execution_count": 67,
      "outputs": [
        {
          "output_type": "display_data",
          "data": {
            "image/png": "[encoded data removed]",
            "text/plain": [
              "<Figure size 432x288 with 1 Axes>"
            ]
          },
          "metadata": {
            "needs_background": "light"
          }
        },
        {
          "output_type": "display_data",
          "data": {
            "image/png": "[encoded data removed]",
            "text/plain": [
              "<Figure size 432x288 with 1 Axes>"
            ]
          },
          "metadata": {
            "needs_background": "light"
          }
        }
      ]
    },
    {
      "cell_type": "code",
      "source": [
        "cnn_model = load_model(os.path.join(trained_models_path, 'CNN_best_model.h5'))\n",
        "y_pred = cnn_model.predict(X_test_2D)\n",
        "metrics(y_test_2D, y_pred)"
      ],
      "metadata": {
        "colab": {
          "base_uri": "https://localhost:8080/",
          "height": 361
        },
        "id": "WIaavzC85mO4",
        "outputId": "5f297f7e-fbcb-4b84-c203-93481729299e"
      },
      "execution_count": 68,
      "outputs": [
        {
          "output_type": "stream",
          "name": "stdout",
          "text": [
            "Accuracy = 0.9931\n",
            "Precision = 0.9913\n",
            "Recall = 0.9956\n",
            "\n"
          ]
        },
        {
          "output_type": "display_data",
          "data": {
            "image/png": "[encoded data removed]",
            "text/plain": [
              "<Figure size 432x288 with 1 Axes>"
            ]
          },
          "metadata": {
            "needs_background": "light"
          }
        }
      ]
    }
  ]
}